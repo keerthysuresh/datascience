{
 "cells": [
  {
   "cell_type": "code",
   "execution_count": 3,
   "id": "0d7b9756",
   "metadata": {},
   "outputs": [],
   "source": [
    "!pip install pymysql\n"
   ]
  },
  {
   "cell_type": "code",
   "execution_count": 1,
   "id": "12a8de71",
   "metadata": {},
   "outputs": [],
   "source": [
    "import pymysql"
   ]
  },
  {
   "cell_type": "code",
   "execution_count": 3,
   "id": "f1b5f048",
   "metadata": {},
   "outputs": [
    {
     "name": "stdout",
     "output_type": "stream",
     "text": [
      "Database Connection Established\n"
     ]
    }
   ],
   "source": [
    "import pymysql\n",
    "\n",
    "connection=pymysql.connect(host='localhost',user='root',passwd=\"\",database='cars')\n",
    "print('Database Connection Established')\n",
    "cur=connection.cursor()\n",
    "\n"
   ]
  },
  {
   "cell_type": "code",
   "execution_count": null,
   "id": "cea76929",
   "metadata": {},
   "outputs": [],
   "source": [
    "cur.execute('CREATE TABLE DETAILS(Name Varchar(20),Age int(10),Stream Varchar(50))')"
   ]
  },
  {
   "cell_type": "code",
   "execution_count": null,
   "id": "6559acf3",
   "metadata": {},
   "outputs": [],
   "source": [
    "cur.execute('INSERT INTO DETAILS(Name,Age,Stream)VALUES(\"ve\",24,\"ec\")')\n",
    "connection.commit()"
   ]
  },
  {
   "cell_type": "code",
   "execution_count": null,
   "id": "9d4cde47",
   "metadata": {},
   "outputs": [],
   "source": [
    "cur.execute('ALTER TABLE DETAILS DROP COLUMN Stream')   #to remove the column stream\n",
    "connection.commit()"
   ]
  },
  {
   "cell_type": "markdown",
   "id": "b0ec6ce8",
   "metadata": {},
   "source": [
    "# Tkinter with SQL connection"
   ]
  },
  {
   "cell_type": "code",
   "execution_count": 2,
   "id": "8998f94b",
   "metadata": {},
   "outputs": [
    {
     "name": "stdout",
     "output_type": "stream",
     "text": [
      "testing function\n",
      "inserted\n"
     ]
    }
   ],
   "source": [
    "from tkinter import*\n",
    "\n",
    "import pymysql\n",
    "from tkinter import messagebox\n",
    "\n",
    "\n",
    "window= Tk()\n",
    "window.geometry('400x400')\n",
    "window.config(bg='pink')\n",
    "window.title('connection')\n",
    "\n",
    "connect=pymysql.connect(host='localhost',user='root',password='',database='Employee')\n",
    "cur=connect.cursor()\n",
    "\n",
    "lb1=Label(window,text='Salary',bg='pink')\n",
    "lb1.place(x=10,y=50)\n",
    "\n",
    "ent1=Entry(window,bg='white',bd=5)\n",
    "ent1.place(x=50,y=50)\n",
    "\n",
    "lb2=Label(window,text='ID',bg='pink')\n",
    "lb2.place(x=10,y=80)\n",
    "\n",
    "ent2=Entry(window,bg='white',bd=5)\n",
    "ent2.place(x=50,y=80)\n",
    "\n",
    "# val1=StringVar()\n",
    "# val2=IntVar()\n",
    "\n",
    "def savedata():\n",
    "    print('testing function')\n",
    "    salary=ent1.get()\n",
    "    id=ent2.get()\n",
    "    cur.execute('INSERT INTO DATAS(SALARY,ID) VALUES(%s,%s)',(salary,id))\n",
    "    connect.commit()\n",
    "    messagebox.showinfo(\"INSERTION COMPLETE\",\"DETAILS ENTERED SUCCESSFULLY\")\n",
    "    \n",
    "    print('inserted')\n",
    "    \n",
    "btn=Button(window,text='Save',bg='Light green',command=savedata)\n",
    "btn.place(x=150,y=150)\n",
    "\n",
    "\n",
    "window.mainloop()\n",
    "    "
   ]
  },
  {
   "cell_type": "code",
   "execution_count": null,
   "id": "d2ce3cea",
   "metadata": {},
   "outputs": [],
   "source": []
  }
 ],
 "metadata": {
  "kernelspec": {
   "display_name": "Python 3 (ipykernel)",
   "language": "python",
   "name": "python3"
  },
  "language_info": {
   "codemirror_mode": {
    "name": "ipython",
    "version": 3
   },
   "file_extension": ".py",
   "mimetype": "text/x-python",
   "name": "python",
   "nbconvert_exporter": "python",
   "pygments_lexer": "ipython3",
   "version": "3.9.12"
  }
 },
 "nbformat": 4,
 "nbformat_minor": 5
}
