{
 "cells": [
  {
   "cell_type": "code",
   "execution_count": 1,
   "id": "670440b9",
   "metadata": {},
   "outputs": [],
   "source": [
    "import pandas as pd\n",
    "import seaborn as sns \n",
    "import matplotlib.pyplot as plt\n",
    "import numpy as np"
   ]
  },
  {
   "cell_type": "code",
   "execution_count": 2,
   "id": "2aa68066",
   "metadata": {},
   "outputs": [
    {
     "data": {
      "text/html": [
       "<div>\n",
       "<style scoped>\n",
       "    .dataframe tbody tr th:only-of-type {\n",
       "        vertical-align: middle;\n",
       "    }\n",
       "\n",
       "    .dataframe tbody tr th {\n",
       "        vertical-align: top;\n",
       "    }\n",
       "\n",
       "    .dataframe thead th {\n",
       "        text-align: right;\n",
       "    }\n",
       "</style>\n",
       "<table border=\"1\" class=\"dataframe\">\n",
       "  <thead>\n",
       "    <tr style=\"text-align: right;\">\n",
       "      <th></th>\n",
       "      <th>category</th>\n",
       "      <th>item</th>\n",
       "      <th>variety</th>\n",
       "      <th>date</th>\n",
       "      <th>price</th>\n",
       "      <th>unit</th>\n",
       "    </tr>\n",
       "  </thead>\n",
       "  <tbody>\n",
       "    <tr>\n",
       "      <th>0</th>\n",
       "      <td>fruit</td>\n",
       "      <td>apples</td>\n",
       "      <td>bramleys_seedling</td>\n",
       "      <td>11-03-2022</td>\n",
       "      <td>2.05</td>\n",
       "      <td>kg</td>\n",
       "    </tr>\n",
       "    <tr>\n",
       "      <th>1</th>\n",
       "      <td>fruit</td>\n",
       "      <td>apples</td>\n",
       "      <td>coxs_orange_group</td>\n",
       "      <td>11-03-2022</td>\n",
       "      <td>1.22</td>\n",
       "      <td>kg</td>\n",
       "    </tr>\n",
       "    <tr>\n",
       "      <th>2</th>\n",
       "      <td>fruit</td>\n",
       "      <td>apples</td>\n",
       "      <td>egremont_russet</td>\n",
       "      <td>11-03-2022</td>\n",
       "      <td>1.14</td>\n",
       "      <td>kg</td>\n",
       "    </tr>\n",
       "    <tr>\n",
       "      <th>3</th>\n",
       "      <td>fruit</td>\n",
       "      <td>apples</td>\n",
       "      <td>braeburn</td>\n",
       "      <td>11-03-2022</td>\n",
       "      <td>1.05</td>\n",
       "      <td>kg</td>\n",
       "    </tr>\n",
       "    <tr>\n",
       "      <th>4</th>\n",
       "      <td>fruit</td>\n",
       "      <td>apples</td>\n",
       "      <td>gala</td>\n",
       "      <td>11-03-2022</td>\n",
       "      <td>1.03</td>\n",
       "      <td>kg</td>\n",
       "    </tr>\n",
       "    <tr>\n",
       "      <th>...</th>\n",
       "      <td>...</td>\n",
       "      <td>...</td>\n",
       "      <td>...</td>\n",
       "      <td>...</td>\n",
       "      <td>...</td>\n",
       "      <td>...</td>\n",
       "    </tr>\n",
       "    <tr>\n",
       "      <th>9642</th>\n",
       "      <td>cut_flowers</td>\n",
       "      <td>alstromeria</td>\n",
       "      <td>indoor</td>\n",
       "      <td>03-11-2017</td>\n",
       "      <td>0.27</td>\n",
       "      <td>stem</td>\n",
       "    </tr>\n",
       "    <tr>\n",
       "      <th>9643</th>\n",
       "      <td>cut_flowers</td>\n",
       "      <td>chrysanthemum</td>\n",
       "      <td>indoor_spray</td>\n",
       "      <td>03-11-2017</td>\n",
       "      <td>0.22</td>\n",
       "      <td>stem</td>\n",
       "    </tr>\n",
       "    <tr>\n",
       "      <th>9644</th>\n",
       "      <td>cut_flowers</td>\n",
       "      <td>lillies</td>\n",
       "      <td>oriental</td>\n",
       "      <td>03-11-2017</td>\n",
       "      <td>0.70</td>\n",
       "      <td>stem</td>\n",
       "    </tr>\n",
       "    <tr>\n",
       "      <th>9645</th>\n",
       "      <td>cut_flowers</td>\n",
       "      <td>narcissus</td>\n",
       "      <td>indoor</td>\n",
       "      <td>03-11-2017</td>\n",
       "      <td>0.06</td>\n",
       "      <td>stem</td>\n",
       "    </tr>\n",
       "    <tr>\n",
       "      <th>9646</th>\n",
       "      <td>pot_plants</td>\n",
       "      <td>cyclamen</td>\n",
       "      <td>13_cm</td>\n",
       "      <td>03-11-2017</td>\n",
       "      <td>0.75</td>\n",
       "      <td>unit</td>\n",
       "    </tr>\n",
       "  </tbody>\n",
       "</table>\n",
       "<p>9647 rows × 6 columns</p>\n",
       "</div>"
      ],
      "text/plain": [
       "         category           item            variety        date  price  unit\n",
       "0           fruit         apples  bramleys_seedling  11-03-2022   2.05    kg\n",
       "1           fruit         apples  coxs_orange_group  11-03-2022   1.22    kg\n",
       "2           fruit         apples    egremont_russet  11-03-2022   1.14    kg\n",
       "3           fruit         apples           braeburn  11-03-2022   1.05    kg\n",
       "4           fruit         apples               gala  11-03-2022   1.03    kg\n",
       "...           ...            ...                ...         ...    ...   ...\n",
       "9642  cut_flowers    alstromeria             indoor  03-11-2017   0.27  stem\n",
       "9643  cut_flowers  chrysanthemum       indoor_spray  03-11-2017   0.22  stem\n",
       "9644  cut_flowers        lillies           oriental  03-11-2017   0.70  stem\n",
       "9645  cut_flowers      narcissus             indoor  03-11-2017   0.06  stem\n",
       "9646   pot_plants       cyclamen              13_cm  03-11-2017   0.75  unit\n",
       "\n",
       "[9647 rows x 6 columns]"
      ]
     },
     "execution_count": 2,
     "metadata": {},
     "output_type": "execute_result"
    }
   ],
   "source": [
    "data=pd.read_csv('C:/Users/user/Downloads/fruitvegprices-2017_2022.csv')\n",
    "data"
   ]
  },
  {
   "cell_type": "code",
   "execution_count": 3,
   "id": "61af83fb",
   "metadata": {},
   "outputs": [
    {
     "name": "stdout",
     "output_type": "stream",
     "text": [
      "<class 'pandas.core.frame.DataFrame'>\n",
      "RangeIndex: 9647 entries, 0 to 9646\n",
      "Data columns (total 6 columns):\n",
      " #   Column    Non-Null Count  Dtype  \n",
      "---  ------    --------------  -----  \n",
      " 0   category  9647 non-null   object \n",
      " 1   item      9647 non-null   object \n",
      " 2   variety   9647 non-null   object \n",
      " 3   date      9647 non-null   object \n",
      " 4   price     9647 non-null   float64\n",
      " 5   unit      9647 non-null   object \n",
      "dtypes: float64(1), object(5)\n",
      "memory usage: 452.3+ KB\n"
     ]
    }
   ],
   "source": [
    "data.info()"
   ]
  },
  {
   "cell_type": "code",
   "execution_count": 4,
   "id": "df649d13",
   "metadata": {},
   "outputs": [
    {
     "data": {
      "text/plain": [
       "(9647, 6)"
      ]
     },
     "execution_count": 4,
     "metadata": {},
     "output_type": "execute_result"
    }
   ],
   "source": [
    "data.shape"
   ]
  },
  {
   "cell_type": "code",
   "execution_count": 5,
   "id": "3d191c3b",
   "metadata": {},
   "outputs": [
    {
     "data": {
      "text/plain": [
       "0             fruit\n",
       "1             fruit\n",
       "2             fruit\n",
       "3             fruit\n",
       "4             fruit\n",
       "           ...     \n",
       "9642    cut_flowers\n",
       "9643    cut_flowers\n",
       "9644    cut_flowers\n",
       "9645    cut_flowers\n",
       "9646     pot_plants\n",
       "Name: category, Length: 9647, dtype: object"
      ]
     },
     "execution_count": 5,
     "metadata": {},
     "output_type": "execute_result"
    }
   ],
   "source": [
    "data['category']"
   ]
  },
  {
   "cell_type": "code",
   "execution_count": 6,
   "id": "181c29cf",
   "metadata": {},
   "outputs": [
    {
     "data": {
      "text/html": [
       "<div>\n",
       "<style scoped>\n",
       "    .dataframe tbody tr th:only-of-type {\n",
       "        vertical-align: middle;\n",
       "    }\n",
       "\n",
       "    .dataframe tbody tr th {\n",
       "        vertical-align: top;\n",
       "    }\n",
       "\n",
       "    .dataframe thead th {\n",
       "        text-align: right;\n",
       "    }\n",
       "</style>\n",
       "<table border=\"1\" class=\"dataframe\">\n",
       "  <thead>\n",
       "    <tr style=\"text-align: right;\">\n",
       "      <th></th>\n",
       "      <th>category</th>\n",
       "      <th>item</th>\n",
       "      <th>variety</th>\n",
       "      <th>date</th>\n",
       "      <th>price</th>\n",
       "      <th>unit</th>\n",
       "    </tr>\n",
       "  </thead>\n",
       "  <tbody>\n",
       "    <tr>\n",
       "      <th>0</th>\n",
       "      <td>fruit</td>\n",
       "      <td>apples</td>\n",
       "      <td>bramleys_seedling</td>\n",
       "      <td>11-03-2022</td>\n",
       "      <td>2.05</td>\n",
       "      <td>kg</td>\n",
       "    </tr>\n",
       "    <tr>\n",
       "      <th>1</th>\n",
       "      <td>fruit</td>\n",
       "      <td>apples</td>\n",
       "      <td>coxs_orange_group</td>\n",
       "      <td>11-03-2022</td>\n",
       "      <td>1.22</td>\n",
       "      <td>kg</td>\n",
       "    </tr>\n",
       "    <tr>\n",
       "      <th>2</th>\n",
       "      <td>fruit</td>\n",
       "      <td>apples</td>\n",
       "      <td>egremont_russet</td>\n",
       "      <td>11-03-2022</td>\n",
       "      <td>1.14</td>\n",
       "      <td>kg</td>\n",
       "    </tr>\n",
       "    <tr>\n",
       "      <th>3</th>\n",
       "      <td>fruit</td>\n",
       "      <td>apples</td>\n",
       "      <td>braeburn</td>\n",
       "      <td>11-03-2022</td>\n",
       "      <td>1.05</td>\n",
       "      <td>kg</td>\n",
       "    </tr>\n",
       "    <tr>\n",
       "      <th>4</th>\n",
       "      <td>fruit</td>\n",
       "      <td>apples</td>\n",
       "      <td>gala</td>\n",
       "      <td>11-03-2022</td>\n",
       "      <td>1.03</td>\n",
       "      <td>kg</td>\n",
       "    </tr>\n",
       "    <tr>\n",
       "      <th>...</th>\n",
       "      <td>...</td>\n",
       "      <td>...</td>\n",
       "      <td>...</td>\n",
       "      <td>...</td>\n",
       "      <td>...</td>\n",
       "      <td>...</td>\n",
       "    </tr>\n",
       "    <tr>\n",
       "      <th>9600</th>\n",
       "      <td>fruit</td>\n",
       "      <td>pears</td>\n",
       "      <td>conference</td>\n",
       "      <td>03-11-2017</td>\n",
       "      <td>0.70</td>\n",
       "      <td>kg</td>\n",
       "    </tr>\n",
       "    <tr>\n",
       "      <th>9601</th>\n",
       "      <td>fruit</td>\n",
       "      <td>pears</td>\n",
       "      <td>doyenne_du_comice</td>\n",
       "      <td>03-11-2017</td>\n",
       "      <td>0.78</td>\n",
       "      <td>kg</td>\n",
       "    </tr>\n",
       "    <tr>\n",
       "      <th>9602</th>\n",
       "      <td>fruit</td>\n",
       "      <td>pears</td>\n",
       "      <td>other</td>\n",
       "      <td>03-11-2017</td>\n",
       "      <td>0.54</td>\n",
       "      <td>kg</td>\n",
       "    </tr>\n",
       "    <tr>\n",
       "      <th>9603</th>\n",
       "      <td>fruit</td>\n",
       "      <td>raspberries</td>\n",
       "      <td>raspberries</td>\n",
       "      <td>03-11-2017</td>\n",
       "      <td>11.00</td>\n",
       "      <td>kg</td>\n",
       "    </tr>\n",
       "    <tr>\n",
       "      <th>9604</th>\n",
       "      <td>fruit</td>\n",
       "      <td>strawberries</td>\n",
       "      <td>strawberries</td>\n",
       "      <td>03-11-2017</td>\n",
       "      <td>2.45</td>\n",
       "      <td>kg</td>\n",
       "    </tr>\n",
       "  </tbody>\n",
       "</table>\n",
       "<p>1992 rows × 6 columns</p>\n",
       "</div>"
      ],
      "text/plain": [
       "     category          item            variety        date  price unit\n",
       "0       fruit        apples  bramleys_seedling  11-03-2022   2.05   kg\n",
       "1       fruit        apples  coxs_orange_group  11-03-2022   1.22   kg\n",
       "2       fruit        apples    egremont_russet  11-03-2022   1.14   kg\n",
       "3       fruit        apples           braeburn  11-03-2022   1.05   kg\n",
       "4       fruit        apples               gala  11-03-2022   1.03   kg\n",
       "...       ...           ...                ...         ...    ...  ...\n",
       "9600    fruit         pears         conference  03-11-2017   0.70   kg\n",
       "9601    fruit         pears  doyenne_du_comice  03-11-2017   0.78   kg\n",
       "9602    fruit         pears              other  03-11-2017   0.54   kg\n",
       "9603    fruit   raspberries        raspberries  03-11-2017  11.00   kg\n",
       "9604    fruit  strawberries       strawberries  03-11-2017   2.45   kg\n",
       "\n",
       "[1992 rows x 6 columns]"
      ]
     },
     "execution_count": 6,
     "metadata": {},
     "output_type": "execute_result"
    }
   ],
   "source": [
    "z=data[data.category=='fruit']\n",
    "z"
   ]
  },
  {
   "cell_type": "code",
   "execution_count": 7,
   "id": "c16ff277",
   "metadata": {},
   "outputs": [
    {
     "data": {
      "text/plain": [
       "<AxesSubplot:>"
      ]
     },
     "execution_count": 7,
     "metadata": {},
     "output_type": "execute_result"
    },
    {
     "data": {
      "image/png": "[encoded data removed]",
      "text/plain": [
       "<Figure size 432x288 with 1 Axes>"
      ]
     },
     "metadata": {
      "needs_background": "light"
     },
     "output_type": "display_data"
    }
   ],
   "source": [
    "z.plot()"
   ]
  },
  {
   "cell_type": "code",
   "execution_count": 36,
   "id": "e664f59d",
   "metadata": {},
   "outputs": [
    {
     "data": {
      "text/html": [
       "<div>\n",
       "<style scoped>\n",
       "    .dataframe tbody tr th:only-of-type {\n",
       "        vertical-align: middle;\n",
       "    }\n",
       "\n",
       "    .dataframe tbody tr th {\n",
       "        vertical-align: top;\n",
       "    }\n",
       "\n",
       "    .dataframe thead th {\n",
       "        text-align: right;\n",
       "    }\n",
       "</style>\n",
       "<table border=\"1\" class=\"dataframe\">\n",
       "  <thead>\n",
       "    <tr style=\"text-align: right;\">\n",
       "      <th></th>\n",
       "      <th>price</th>\n",
       "    </tr>\n",
       "  </thead>\n",
       "  <tbody>\n",
       "    <tr>\n",
       "      <th>price</th>\n",
       "      <td>1.0</td>\n",
       "    </tr>\n",
       "  </tbody>\n",
       "</table>\n",
       "</div>"
      ],
      "text/plain": [
       "       price\n",
       "price    1.0"
      ]
     },
     "execution_count": 36,
     "metadata": {},
     "output_type": "execute_result"
    }
   ],
   "source": [
    "z.corr()"
   ]
  },
  {
   "cell_type": "code",
   "execution_count": 8,
   "id": "8d532489",
   "metadata": {},
   "outputs": [
    {
     "data": {
      "text/plain": [
       "<AxesSubplot:>"
      ]
     },
     "execution_count": 8,
     "metadata": {},
     "output_type": "execute_result"
    },
    {
     "data": {
      "image/png": "[encoded data removed]",
      "text/plain": [
       "<Figure size 432x288 with 2 Axes>"
      ]
     },
     "metadata": {
      "needs_background": "light"
     },
     "output_type": "display_data"
    }
   ],
   "source": [
    "sns.heatmap(z.corr(),annot=True)"
   ]
  },
  {
   "cell_type": "code",
   "execution_count": 9,
   "id": "380f890d",
   "metadata": {},
   "outputs": [
    {
     "data": {
      "text/plain": [
       "<seaborn.axisgrid.PairGrid at 0x2188e7e6760>"
      ]
     },
     "execution_count": 9,
     "metadata": {},
     "output_type": "execute_result"
    },
    {
     "data": {
      "image/png": "[encoded data removed]",
      "text/plain": [
       "<Figure size 180x180 with 2 Axes>"
      ]
     },
     "metadata": {
      "needs_background": "light"
     },
     "output_type": "display_data"
    }
   ],
   "source": [
    "sns.pairplot(z)"
   ]
  },
  {
   "cell_type": "markdown",
   "id": "880b4a3e",
   "metadata": {},
   "source": [
    "# bar plot of fruits"
   ]
  },
  {
   "cell_type": "code",
   "execution_count": 10,
   "id": "4449c175",
   "metadata": {},
   "outputs": [
    {
     "data": {
      "text/plain": [
       "<AxesSubplot:xlabel='price', ylabel='item'>"
      ]
     },
     "execution_count": 10,
     "metadata": {},
     "output_type": "execute_result"
    },
    {
     "data": {
      "image/png": "[encoded data removed]",
      "text/plain": [
       "<Figure size 432x288 with 1 Axes>"
      ]
     },
     "metadata": {
      "needs_background": "light"
     },
     "output_type": "display_data"
    }
   ],
   "source": [
    "sns.barplot(data=z,x='price',y='item')"
   ]
  },
  {
   "cell_type": "code",
   "execution_count": 11,
   "id": "5895553b",
   "metadata": {},
   "outputs": [
    {
     "data": {
      "text/html": [
       "<div>\n",
       "<style scoped>\n",
       "    .dataframe tbody tr th:only-of-type {\n",
       "        vertical-align: middle;\n",
       "    }\n",
       "\n",
       "    .dataframe tbody tr th {\n",
       "        vertical-align: top;\n",
       "    }\n",
       "\n",
       "    .dataframe thead th {\n",
       "        text-align: right;\n",
       "    }\n",
       "</style>\n",
       "<table border=\"1\" class=\"dataframe\">\n",
       "  <thead>\n",
       "    <tr style=\"text-align: right;\">\n",
       "      <th></th>\n",
       "      <th>category</th>\n",
       "      <th>item</th>\n",
       "      <th>variety</th>\n",
       "      <th>date</th>\n",
       "      <th>price</th>\n",
       "      <th>unit</th>\n",
       "    </tr>\n",
       "  </thead>\n",
       "  <tbody>\n",
       "    <tr>\n",
       "      <th>8</th>\n",
       "      <td>vegetable</td>\n",
       "      <td>beetroot</td>\n",
       "      <td>beetroot</td>\n",
       "      <td>11-03-2022</td>\n",
       "      <td>0.52</td>\n",
       "      <td>kg</td>\n",
       "    </tr>\n",
       "    <tr>\n",
       "      <th>9</th>\n",
       "      <td>vegetable</td>\n",
       "      <td>brussels_sprouts</td>\n",
       "      <td>brussels_sprouts</td>\n",
       "      <td>11-03-2022</td>\n",
       "      <td>0.78</td>\n",
       "      <td>kg</td>\n",
       "    </tr>\n",
       "    <tr>\n",
       "      <th>10</th>\n",
       "      <td>vegetable</td>\n",
       "      <td>pak_choi</td>\n",
       "      <td>pak_choi</td>\n",
       "      <td>11-03-2022</td>\n",
       "      <td>3.17</td>\n",
       "      <td>kg</td>\n",
       "    </tr>\n",
       "    <tr>\n",
       "      <th>11</th>\n",
       "      <td>vegetable</td>\n",
       "      <td>curly_kale</td>\n",
       "      <td>curly_kale</td>\n",
       "      <td>11-03-2022</td>\n",
       "      <td>3.17</td>\n",
       "      <td>kg</td>\n",
       "    </tr>\n",
       "    <tr>\n",
       "      <th>12</th>\n",
       "      <td>vegetable</td>\n",
       "      <td>cabbage</td>\n",
       "      <td>red</td>\n",
       "      <td>11-03-2022</td>\n",
       "      <td>0.59</td>\n",
       "      <td>kg</td>\n",
       "    </tr>\n",
       "    <tr>\n",
       "      <th>...</th>\n",
       "      <td>...</td>\n",
       "      <td>...</td>\n",
       "      <td>...</td>\n",
       "      <td>...</td>\n",
       "      <td>...</td>\n",
       "      <td>...</td>\n",
       "    </tr>\n",
       "    <tr>\n",
       "      <th>9637</th>\n",
       "      <td>vegetable</td>\n",
       "      <td>spinach_leaf</td>\n",
       "      <td>loose_bunches</td>\n",
       "      <td>03-11-2017</td>\n",
       "      <td>0.76</td>\n",
       "      <td>kg</td>\n",
       "    </tr>\n",
       "    <tr>\n",
       "      <th>9638</th>\n",
       "      <td>vegetable</td>\n",
       "      <td>sweetcorn</td>\n",
       "      <td>sweetcorn</td>\n",
       "      <td>03-11-2017</td>\n",
       "      <td>0.18</td>\n",
       "      <td>head</td>\n",
       "    </tr>\n",
       "    <tr>\n",
       "      <th>9639</th>\n",
       "      <td>vegetable</td>\n",
       "      <td>tomatoes</td>\n",
       "      <td>round</td>\n",
       "      <td>03-11-2017</td>\n",
       "      <td>0.97</td>\n",
       "      <td>kg</td>\n",
       "    </tr>\n",
       "    <tr>\n",
       "      <th>9640</th>\n",
       "      <td>vegetable</td>\n",
       "      <td>tomatoes</td>\n",
       "      <td>vine</td>\n",
       "      <td>03-11-2017</td>\n",
       "      <td>1.54</td>\n",
       "      <td>kg</td>\n",
       "    </tr>\n",
       "    <tr>\n",
       "      <th>9641</th>\n",
       "      <td>vegetable</td>\n",
       "      <td>watercress</td>\n",
       "      <td>pillow_packs</td>\n",
       "      <td>03-11-2017</td>\n",
       "      <td>8.04</td>\n",
       "      <td>kg</td>\n",
       "    </tr>\n",
       "  </tbody>\n",
       "</table>\n",
       "<p>7264 rows × 6 columns</p>\n",
       "</div>"
      ],
      "text/plain": [
       "       category              item           variety        date  price  unit\n",
       "8     vegetable          beetroot          beetroot  11-03-2022   0.52    kg\n",
       "9     vegetable  brussels_sprouts  brussels_sprouts  11-03-2022   0.78    kg\n",
       "10    vegetable          pak_choi          pak_choi  11-03-2022   3.17    kg\n",
       "11    vegetable        curly_kale        curly_kale  11-03-2022   3.17    kg\n",
       "12    vegetable           cabbage               red  11-03-2022   0.59    kg\n",
       "...         ...               ...               ...         ...    ...   ...\n",
       "9637  vegetable      spinach_leaf     loose_bunches  03-11-2017   0.76    kg\n",
       "9638  vegetable         sweetcorn         sweetcorn  03-11-2017   0.18  head\n",
       "9639  vegetable          tomatoes             round  03-11-2017   0.97    kg\n",
       "9640  vegetable          tomatoes              vine  03-11-2017   1.54    kg\n",
       "9641  vegetable        watercress      pillow_packs  03-11-2017   8.04    kg\n",
       "\n",
       "[7264 rows x 6 columns]"
      ]
     },
     "execution_count": 11,
     "metadata": {},
     "output_type": "execute_result"
    }
   ],
   "source": [
    "veg=data[data.category=='vegetable']\n",
    "veg"
   ]
  },
  {
   "cell_type": "code",
   "execution_count": 48,
   "id": "ff815585",
   "metadata": {},
   "outputs": [
    {
     "data": {
      "text/plain": [
       "<AxesSubplot:xlabel='price', ylabel='item'>"
      ]
     },
     "execution_count": 48,
     "metadata": {},
     "output_type": "execute_result"
    },
    {
     "data": {
      "image/png": "[encoded data removed]",
      "text/plain": [
       "<Figure size 432x288 with 1 Axes>"
      ]
     },
     "metadata": {
      "needs_background": "light"
     },
     "output_type": "display_data"
    }
   ],
   "source": [
    "sns.barplot(data=veg,x='price',y='item')"
   ]
  },
  {
   "cell_type": "code",
   "execution_count": 12,
   "id": "a76f0f68",
   "metadata": {},
   "outputs": [
    {
     "data": {
      "text/plain": [
       "<seaborn.axisgrid.PairGrid at 0x2188e9ebc40>"
      ]
     },
     "execution_count": 12,
     "metadata": {},
     "output_type": "execute_result"
    },
    {
     "data": {
      "image/png": "[encoded data removed]",
      "text/plain": [
       "<Figure size 180x180 with 2 Axes>"
      ]
     },
     "metadata": {
      "needs_background": "light"
     },
     "output_type": "display_data"
    }
   ],
   "source": [
    "sns.pairplot(veg)"
   ]
  },
  {
   "cell_type": "code",
   "execution_count": 13,
   "id": "146656bb",
   "metadata": {},
   "outputs": [
    {
     "data": {
      "text/plain": [
       "<AxesSubplot:xlabel='price', ylabel='item'>"
      ]
     },
     "execution_count": 13,
     "metadata": {},
     "output_type": "execute_result"
    },
    {
     "data": {
      "image/png": "[encoded data removed]",
      "text/plain": [
       "<Figure size 432x288 with 1 Axes>"
      ]
     },
     "metadata": {},
     "output_type": "display_data"
    }
   ],
   "source": [
    "sns.set_theme(style='ticks')\n",
    "sns.pointplot(data=veg,x='price',y='item',hue='item')"
   ]
  },
  {
   "cell_type": "code",
   "execution_count": null,
   "id": "e9d8bca1",
   "metadata": {},
   "outputs": [],
   "source": []
  }
 ],
 "metadata": {
  "kernelspec": {
   "display_name": "Python 3 (ipykernel)",
   "language": "python",
   "name": "python3"
  },
  "language_info": {
   "codemirror_mode": {
    "name": "ipython",
    "version": 3
   },
   "file_extension": ".py",
   "mimetype": "text/x-python",
   "name": "python",
   "nbconvert_exporter": "python",
   "pygments_lexer": "ipython3",
   "version": "3.9.12"
  }
 },
 "nbformat": 4,
 "nbformat_minor": 5
}
