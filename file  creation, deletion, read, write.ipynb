{
 "cells": [
  {
   "cell_type": "markdown",
   "id": "b9abb15e",
   "metadata": {},
   "source": [
    "# Python File Handling"
   ]
  },
  {
   "cell_type": "markdown",
   "id": "8b1028d8",
   "metadata": {},
   "source": [
    "\n",
    "The file handling plays an important role when the data needs to be stored permanently into the file.\n",
    "\n",
    "A file is a named location on disk to store related information. We can access the stored information (non-volatile) after the program termination.\n",
    "\n",
    "In Python, there is no need for importing external library to read and write files. Python provides an inbuilt function for creating, writing, and reading files.\n",
    "\n",
    "In Python, files are treated in two modes as text or binary. The file may be in the text or binary format, and each line of a file is ended with the special character.\n",
    "\n",
    "Hence, a file operation can be done in the following order.\n",
    "\n",
    "Open a file\n",
    "Read or write - Performing operation\n",
    "Close the file"
   ]
  },
  {
   "cell_type": "markdown",
   "id": "5aede3af",
   "metadata": {},
   "source": [
    "# Opening a file"
   ]
  },
  {
   "cell_type": "raw",
   "id": "eba89088",
   "metadata": {},
   "source": [
    "\n",
    "Python provides an open() function that accepts two arguments, file name and access mode in which the file is accessed.\n",
    "\n",
    "The function returns a file object which can be used to perform various operations like reading, writing, etc.\n",
    "\n",
    "Syntax:\n",
    "\n",
    "file object = open(file-name, access-mode, buffering)\n",
    "\n",
    "The files can be accessed using various modes like read, write, or append.\n",
    "\n",
    "r: open an existing file for a read operation.\n",
    "w: open an existing file for a write operation. If the file already contains some data then it will be overridden.\n",
    "a:  open an existing file for append operation. It won’t override existing data.\n",
    "r+:  To read and write data into the file. The previous data in the file will not be deleted.\n",
    "w+: To write and read data. It will override existing data.\n",
    "a+: To append and read data from the file. It won’t override existing data."
   ]
  },
  {
   "cell_type": "code",
   "execution_count": 2,
   "id": "fb11521d",
   "metadata": {},
   "outputs": [
    {
     "name": "stdout",
     "output_type": "stream",
     "text": [
      "india is my country.\n"
     ]
    }
   ],
   "source": [
    "file = open(\"C:/Users/91799/OneDrive/Desktop/task.txt\",'r')\n",
    "print(file.read())"
   ]
  },
  {
   "cell_type": "code",
   "execution_count": 3,
   "id": "00e9ff69",
   "metadata": {},
   "outputs": [
    {
     "name": "stdout",
     "output_type": "stream",
     "text": [
      "zsxdcftvgbyhnujmik,lsdxfcgvbhjk.\n"
     ]
    }
   ],
   "source": [
    "file = open('file.txt','r')\n",
    "for each in file:    \n",
    "#The open command will open the file in the read mode and the for loop will print each line present in the file. \n",
    "    print (each)"
   ]
  },
  {
   "cell_type": "code",
   "execution_count": 5,
   "id": "85f44951",
   "metadata": {},
   "outputs": [
    {
     "name": "stdout",
     "output_type": "stream",
     "text": [
      "zsxdc\n"
     ]
    }
   ],
   "source": [
    "#You can return one line by using the readline() method:\n",
    "\n",
    "file = open(\"file.txt\", \"r\")\n",
    "\n",
    "print(file.readline(5))"
   ]
  },
  {
   "cell_type": "markdown",
   "id": "9c572a23",
   "metadata": {},
   "source": [
    "# close() method"
   ]
  },
  {
   "cell_type": "raw",
   "id": "3f77cbb5",
   "metadata": {},
   "source": [
    "\n",
    "Once all the operations are done on the file, we must close it through our Python script using the close() method. Any unwritten information gets destroyed once the close() method is called on a file object.\n",
    "\n",
    "We can perform any operation on the file externally using the file system which is the currently opened in Python; hence it is good practice to close the file once all the operations are done.\n",
    "\n",
    "Syntax\n",
    "\n",
    "       fileobject.close()   "
   ]
  },
  {
   "cell_type": "code",
   "execution_count": null,
   "id": "1577ea1a",
   "metadata": {},
   "outputs": [],
   "source": [
    "file.close()    # it will close the above opened file"
   ]
  },
  {
   "cell_type": "markdown",
   "id": "bdf38b92",
   "metadata": {},
   "source": [
    "# Write to an Existing File\n",
    "To write to an existing file, you must add a parameter to the open() function:\n",
    "\n",
    "\"a\" - Append - will append to the end of the file\n",
    "\n",
    "\"w\" - Write - will overwrite any existing content\n",
    "\n",
    "Example"
   ]
  },
  {
   "cell_type": "code",
   "execution_count": 13,
   "id": "7ce7c840",
   "metadata": {},
   "outputs": [
    {
     "name": "stdout",
     "output_type": "stream",
     "text": [
      "Poetry is a form of literature that uses aesthetic and often rhythmic qualities of language âˆ’ such as phonaesthetics\n",
      "sound symbolism, and metre âˆ’ to evoke meanings in addition to, or in place of, a prosaic ostensible meaning.Now the file has more content!\n"
     ]
    }
   ],
   "source": [
    "f = open(\"poem.txt\", \"a\")\n",
    "\n",
    "f.write(\"Now the file has more content!\")   #if put \\n, it will be write  in the next line\n",
    "f.close()\n",
    "#open and read the file after the appending:\n",
    "f = open(\"poem.txt\", \"r\")\n",
    "print(f.read())"
   ]
  },
  {
   "cell_type": "code",
   "execution_count": 14,
   "id": "bc6c4d39",
   "metadata": {},
   "outputs": [
    {
     "name": "stdout",
     "output_type": "stream",
     "text": [
      "Woops! I have deleted the content!\n"
     ]
    }
   ],
   "source": [
    "#Open the file \"poem.txt\" and overwrite the content:\n",
    "\n",
    "f = open(\"poem.txt\", \"w\")\n",
    "f.write(\"Woops! I have deleted the content!\")\n",
    "f.close()\n",
    "\n",
    "#open and read the file after the appending:\n",
    "f = open(\"poem.txt\", \"r\")\n",
    "print(f.read())"
   ]
  },
  {
   "cell_type": "markdown",
   "id": "3e005340",
   "metadata": {},
   "source": [
    "# Create a New File\n",
    "To create a new file in Python, use the open() method, with one of the following parameters:\n",
    "\n",
    "\"x\" - Create - will create a file, returns an error if the file exist\n",
    "\n",
    "\"a\" - Append - will create a file if the specified file does no t exist\n",
    "\n",
    "\"w\" - Write - will create a file if the specified file does not exist"
   ]
  },
  {
   "cell_type": "code",
   "execution_count": 6,
   "id": "e56099e1",
   "metadata": {},
   "outputs": [],
   "source": [
    "f = open(\"hello.txt\", \"x\")\n",
    "\n",
    "#Result: a new empty file is created!"
   ]
  },
  {
   "cell_type": "code",
   "execution_count": 3,
   "id": "a2a159f3",
   "metadata": {},
   "outputs": [],
   "source": [
    "f = open(\"Filea.txt\", \"w\")"
   ]
  },
  {
   "cell_type": "markdown",
   "id": "bcec22d9",
   "metadata": {},
   "source": [
    "# Deleting a file\n",
    "To delete a file, you must import the OS module, and run its os.remove() function:"
   ]
  },
  {
   "cell_type": "code",
   "execution_count": 2,
   "id": "fa978210",
   "metadata": {},
   "outputs": [
    {
     "ename": "FileNotFoundError",
     "evalue": "[WinError 2] The system cannot find the file specified: 'head.txt'",
     "output_type": "error",
     "traceback": [
      "\u001b[1;31m---------------------------------------------------------------------------\u001b[0m",
      "\u001b[1;31mFileNotFoundError\u001b[0m                         Traceback (most recent call last)",
      "Input \u001b[1;32mIn [2]\u001b[0m, in \u001b[0;36m<cell line: 6>\u001b[1;34m()\u001b[0m\n\u001b[0;32m      1\u001b[0m \u001b[38;5;66;03m#Example\u001b[39;00m\n\u001b[0;32m      2\u001b[0m \u001b[38;5;66;03m#Remove the file \"filea.txt\":\u001b[39;00m\n\u001b[0;32m      4\u001b[0m \u001b[38;5;28;01mimport\u001b[39;00m \u001b[38;5;21;01mos\u001b[39;00m\n\u001b[1;32m----> 6\u001b[0m \u001b[43mos\u001b[49m\u001b[38;5;241;43m.\u001b[39;49m\u001b[43mremove\u001b[49m\u001b[43m(\u001b[49m\u001b[38;5;124;43m\"\u001b[39;49m\u001b[38;5;124;43mhead.txt\u001b[39;49m\u001b[38;5;124;43m\"\u001b[39;49m\u001b[43m)\u001b[49m\n",
      "\u001b[1;31mFileNotFoundError\u001b[0m: [WinError 2] The system cannot find the file specified: 'head.txt'"
     ]
    }
   ],
   "source": [
    "#Example\n",
    "#Remove the file \"filea.txt\":\n",
    "\n",
    "import os\n",
    "\n",
    "os.remove(\"head.txt\")"
   ]
  },
  {
   "cell_type": "code",
   "execution_count": 2,
   "id": "0fa4c4ff",
   "metadata": {},
   "outputs": [
    {
     "name": "stdout",
     "output_type": "stream",
     "text": [
      "The file does not exist\n"
     ]
    }
   ],
   "source": [
    "#Check if file exists, then delete it:\n",
    "\n",
    "import os\n",
    "\n",
    "if os.path.exists(\"lakshmi.txt\"):\n",
    "    os.remove(\"lakshmi.txt\")\n",
    "    \n",
    "else:\n",
    "    print(\"The file does not exist\")"
   ]
  },
  {
   "cell_type": "code",
   "execution_count": 3,
   "id": "8c536b34",
   "metadata": {},
   "outputs": [
    {
     "data": {
      "text/plain": [
       "['DirEntry',\n",
       " 'F_OK',\n",
       " 'GenericAlias',\n",
       " 'Mapping',\n",
       " 'MutableMapping',\n",
       " 'O_APPEND',\n",
       " 'O_BINARY',\n",
       " 'O_CREAT',\n",
       " 'O_EXCL',\n",
       " 'O_NOINHERIT',\n",
       " 'O_RANDOM',\n",
       " 'O_RDONLY',\n",
       " 'O_RDWR',\n",
       " 'O_SEQUENTIAL',\n",
       " 'O_SHORT_LIVED',\n",
       " 'O_TEMPORARY',\n",
       " 'O_TEXT',\n",
       " 'O_TRUNC',\n",
       " 'O_WRONLY',\n",
       " 'P_DETACH',\n",
       " 'P_NOWAIT',\n",
       " 'P_NOWAITO',\n",
       " 'P_OVERLAY',\n",
       " 'P_WAIT',\n",
       " 'PathLike',\n",
       " 'R_OK',\n",
       " 'SEEK_CUR',\n",
       " 'SEEK_END',\n",
       " 'SEEK_SET',\n",
       " 'TMP_MAX',\n",
       " 'W_OK',\n",
       " 'X_OK',\n",
       " '_AddedDllDirectory',\n",
       " '_Environ',\n",
       " '__all__',\n",
       " '__builtins__',\n",
       " '__cached__',\n",
       " '__doc__',\n",
       " '__file__',\n",
       " '__loader__',\n",
       " '__name__',\n",
       " '__package__',\n",
       " '__spec__',\n",
       " '_check_methods',\n",
       " '_execvpe',\n",
       " '_exists',\n",
       " '_exit',\n",
       " '_fspath',\n",
       " '_get_exports_list',\n",
       " '_walk',\n",
       " '_wrap_close',\n",
       " 'abc',\n",
       " 'abort',\n",
       " 'access',\n",
       " 'add_dll_directory',\n",
       " 'altsep',\n",
       " 'chdir',\n",
       " 'chmod',\n",
       " 'close',\n",
       " 'closerange',\n",
       " 'cpu_count',\n",
       " 'curdir',\n",
       " 'defpath',\n",
       " 'device_encoding',\n",
       " 'devnull',\n",
       " 'dup',\n",
       " 'dup2',\n",
       " 'environ',\n",
       " 'error',\n",
       " 'execl',\n",
       " 'execle',\n",
       " 'execlp',\n",
       " 'execlpe',\n",
       " 'execv',\n",
       " 'execve',\n",
       " 'execvp',\n",
       " 'execvpe',\n",
       " 'extsep',\n",
       " 'fdopen',\n",
       " 'fsdecode',\n",
       " 'fsencode',\n",
       " 'fspath',\n",
       " 'fstat',\n",
       " 'fsync',\n",
       " 'ftruncate',\n",
       " 'get_exec_path',\n",
       " 'get_handle_inheritable',\n",
       " 'get_inheritable',\n",
       " 'get_terminal_size',\n",
       " 'getcwd',\n",
       " 'getcwdb',\n",
       " 'getenv',\n",
       " 'getlogin',\n",
       " 'getpid',\n",
       " 'getppid',\n",
       " 'isatty',\n",
       " 'kill',\n",
       " 'linesep',\n",
       " 'link',\n",
       " 'listdir',\n",
       " 'lseek',\n",
       " 'lstat',\n",
       " 'makedirs',\n",
       " 'mkdir',\n",
       " 'name',\n",
       " 'open',\n",
       " 'pardir',\n",
       " 'path',\n",
       " 'pathsep',\n",
       " 'pipe',\n",
       " 'popen',\n",
       " 'putenv',\n",
       " 'read',\n",
       " 'readlink',\n",
       " 'remove',\n",
       " 'removedirs',\n",
       " 'rename',\n",
       " 'renames',\n",
       " 'replace',\n",
       " 'rmdir',\n",
       " 'scandir',\n",
       " 'sep',\n",
       " 'set_handle_inheritable',\n",
       " 'set_inheritable',\n",
       " 'spawnl',\n",
       " 'spawnle',\n",
       " 'spawnv',\n",
       " 'spawnve',\n",
       " 'st',\n",
       " 'startfile',\n",
       " 'stat',\n",
       " 'stat_result',\n",
       " 'statvfs_result',\n",
       " 'strerror',\n",
       " 'supports_bytes_environ',\n",
       " 'supports_dir_fd',\n",
       " 'supports_effective_ids',\n",
       " 'supports_fd',\n",
       " 'supports_follow_symlinks',\n",
       " 'symlink',\n",
       " 'sys',\n",
       " 'system',\n",
       " 'terminal_size',\n",
       " 'times',\n",
       " 'times_result',\n",
       " 'truncate',\n",
       " 'umask',\n",
       " 'uname_result',\n",
       " 'unlink',\n",
       " 'unsetenv',\n",
       " 'urandom',\n",
       " 'utime',\n",
       " 'waitpid',\n",
       " 'waitstatus_to_exitcode',\n",
       " 'walk',\n",
       " 'write']"
      ]
     },
     "execution_count": 3,
     "metadata": {},
     "output_type": "execute_result"
    }
   ],
   "source": [
    "dir(os)"
   ]
  },
  {
   "cell_type": "code",
   "execution_count": null,
   "id": "64b2e408",
   "metadata": {},
   "outputs": [],
   "source": []
  }
 ],
 "metadata": {
  "kernelspec": {
   "display_name": "Python 3 (ipykernel)",
   "language": "python",
   "name": "python3"
  },
  "language_info": {
   "codemirror_mode": {
    "name": "ipython",
    "version": 3
   },
   "file_extension": ".py",
   "mimetype": "text/x-python",
   "name": "python",
   "nbconvert_exporter": "python",
   "pygments_lexer": "ipython3",
   "version": "3.9.12"
  }
 },
 "nbformat": 4,
 "nbformat_minor": 5
}
