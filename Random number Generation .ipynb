{
 "cells": [
  {
   "cell_type": "markdown",
   "id": "15eba6cf",
   "metadata": {},
   "source": [
    "# Random Number Generation"
   ]
  },
  {
   "cell_type": "raw",
   "id": "d45d2a40",
   "metadata": {},
   "source": [
    "randint        #syntax\n",
    "randn\n",
    "rand"
   ]
  },
  {
   "cell_type": "code",
   "execution_count": 3,
   "id": "98ceb5b0",
   "metadata": {},
   "outputs": [
    {
     "data": {
      "text/plain": [
       "array([8, 8, 4, 3, 7, 8, 2])"
      ]
     },
     "execution_count": 3,
     "metadata": {},
     "output_type": "execute_result"
    }
   ],
   "source": [
    "import numpy as np\n",
    "np.random.randint(0,10,7)                 #start, stop, n    (o/p change wrt to every run) bcoz it is selected in random way."
   ]
  },
  {
   "cell_type": "code",
   "execution_count": 5,
   "id": "1f2d7cb3",
   "metadata": {},
   "outputs": [
    {
     "data": {
      "text/plain": [
       "array([[7, 9, 4, 9, 7],\n",
       "       [9, 4, 5, 8, 6],\n",
       "       [4, 5, 4, 6, 9]])"
      ]
     },
     "execution_count": 5,
     "metadata": {},
     "output_type": "execute_result"
    }
   ],
   "source": [
    "np.random.randint(4,10,(3,5))              #2d with row and column\n"
   ]
  },
  {
   "cell_type": "code",
   "execution_count": 9,
   "id": "ffe61033",
   "metadata": {},
   "outputs": [
    {
     "data": {
      "text/plain": [
       "array([0.99585017, 0.42802301, 0.65796432, 0.19037231, 0.85240669,\n",
       "       0.37797316])"
      ]
     },
     "execution_count": 9,
     "metadata": {},
     "output_type": "execute_result"
    }
   ],
   "source": [
    "np.random.rand(6)      #only specify the n, and it takes the values b/w 0 and 1"
   ]
  },
  {
   "cell_type": "code",
   "execution_count": 11,
   "id": "f6326c95",
   "metadata": {},
   "outputs": [
    {
     "data": {
      "text/plain": [
       "array([ 1.3536575 ,  0.10885435, -1.58613835, -0.27204878,  0.53043875,\n",
       "       -1.48112386])"
      ]
     },
     "execution_count": 11,
     "metadata": {},
     "output_type": "execute_result"
    }
   ],
   "source": [
    "np.random.randn(6)      #specify only n, it takes the values from any range, different o/p for each run"
   ]
  },
  {
   "cell_type": "code",
   "execution_count": 17,
   "id": "24904b0c",
   "metadata": {},
   "outputs": [
    {
     "data": {
      "text/plain": [
       "4"
      ]
     },
     "execution_count": 17,
     "metadata": {},
     "output_type": "execute_result"
    }
   ],
   "source": [
    "np.random.randint(6)"
   ]
  },
  {
   "cell_type": "markdown",
   "id": "760c7add",
   "metadata": {},
   "source": [
    "seed()   - to give the same sequence of random numbers"
   ]
  },
  {
   "cell_type": "code",
   "execution_count": 22,
   "id": "c0e58714",
   "metadata": {},
   "outputs": [
    {
     "data": {
      "text/plain": [
       "array([ 1.62434536, -0.61175641, -0.52817175, -1.07296862,  0.86540763])"
      ]
     },
     "execution_count": 22,
     "metadata": {},
     "output_type": "execute_result"
    }
   ],
   "source": [
    "np.random.seed(1)\n",
    "np.random.randn(5)"
   ]
  },
  {
   "cell_type": "markdown",
   "id": "61fe8825",
   "metadata": {},
   "source": [
    "# Min and Max"
   ]
  },
  {
   "cell_type": "code",
   "execution_count": 21,
   "id": "b6725a59",
   "metadata": {},
   "outputs": [
    {
     "data": {
      "text/plain": [
       "array([ 1,  2,  3,  4,  5,  6,  7,  8, 99, 45, 64])"
      ]
     },
     "execution_count": 21,
     "metadata": {},
     "output_type": "execute_result"
    }
   ],
   "source": [
    "L=[1,2,3,4,5,6,7,8,99,45,64]\n",
    "L1=np.array(L)\n",
    "L1"
   ]
  },
  {
   "cell_type": "code",
   "execution_count": 22,
   "id": "0424b9fe",
   "metadata": {},
   "outputs": [
    {
     "data": {
      "text/plain": [
       "1"
      ]
     },
     "execution_count": 22,
     "metadata": {},
     "output_type": "execute_result"
    }
   ],
   "source": [
    "min(L1)"
   ]
  },
  {
   "cell_type": "code",
   "execution_count": 23,
   "id": "3be4bd80",
   "metadata": {},
   "outputs": [
    {
     "data": {
      "text/plain": [
       "99"
      ]
     },
     "execution_count": 23,
     "metadata": {},
     "output_type": "execute_result"
    }
   ],
   "source": [
    "max(L1)"
   ]
  },
  {
   "cell_type": "markdown",
   "id": "ccf284f8",
   "metadata": {},
   "source": [
    "# Reshape"
   ]
  },
  {
   "cell_type": "code",
   "execution_count": 23,
   "id": "07e44534",
   "metadata": {},
   "outputs": [
    {
     "data": {
      "text/plain": [
       "array([ 0,  1,  2,  3,  4,  5,  6,  7,  8,  9, 10, 11, 12, 13, 14, 15, 16,\n",
       "       17, 18, 19, 20, 21, 22, 23, 24, 25, 26, 27, 28, 29, 30, 31, 32, 33,\n",
       "       34, 35, 36, 37, 38, 39, 40, 41])"
      ]
     },
     "execution_count": 23,
     "metadata": {},
     "output_type": "execute_result"
    }
   ],
   "source": [
    "ar=np.arange(42)        #()-inside how much range\n",
    "ar"
   ]
  },
  {
   "cell_type": "code",
   "execution_count": 24,
   "id": "a4214742",
   "metadata": {},
   "outputs": [
    {
     "data": {
      "text/plain": [
       "array([[[ 0,  1,  2],\n",
       "        [ 3,  4,  5],\n",
       "        [ 6,  7,  8],\n",
       "        [ 9, 10, 11],\n",
       "        [12, 13, 14],\n",
       "        [15, 16, 17],\n",
       "        [18, 19, 20]],\n",
       "\n",
       "       [[21, 22, 23],\n",
       "        [24, 25, 26],\n",
       "        [27, 28, 29],\n",
       "        [30, 31, 32],\n",
       "        [33, 34, 35],\n",
       "        [36, 37, 38],\n",
       "        [39, 40, 41]]])"
      ]
     },
     "execution_count": 24,
     "metadata": {},
     "output_type": "execute_result"
    }
   ],
   "source": [
    "ar.reshape(2,7,3)      #inside bracket specify the row and column."
   ]
  },
  {
   "cell_type": "markdown",
   "id": "17cd3d14",
   "metadata": {},
   "source": [
    "# Indexing"
   ]
  },
  {
   "cell_type": "code",
   "execution_count": 32,
   "id": "d271773a",
   "metadata": {},
   "outputs": [
    {
     "data": {
      "text/plain": [
       "array([3, 4, 5, 6, 7, 8, 9])"
      ]
     },
     "execution_count": 32,
     "metadata": {},
     "output_type": "execute_result"
    }
   ],
   "source": [
    "L= np.arange(3,10,1)\n",
    "L"
   ]
  },
  {
   "cell_type": "code",
   "execution_count": 33,
   "id": "34abe644",
   "metadata": {},
   "outputs": [
    {
     "data": {
      "text/plain": [
       "6"
      ]
     },
     "execution_count": 33,
     "metadata": {},
     "output_type": "execute_result"
    }
   ],
   "source": [
    "L[3]"
   ]
  },
  {
   "cell_type": "code",
   "execution_count": 34,
   "id": "94ac50f4",
   "metadata": {},
   "outputs": [
    {
     "data": {
      "text/plain": [
       "5"
      ]
     },
     "execution_count": 34,
     "metadata": {},
     "output_type": "execute_result"
    }
   ],
   "source": [
    "L[-5]"
   ]
  },
  {
   "cell_type": "code",
   "execution_count": 35,
   "id": "c446bfae",
   "metadata": {},
   "outputs": [
    {
     "data": {
      "text/plain": [
       "array([6, 7])"
      ]
     },
     "execution_count": 35,
     "metadata": {},
     "output_type": "execute_result"
    }
   ],
   "source": [
    "L[3:5]"
   ]
  },
  {
   "cell_type": "code",
   "execution_count": 36,
   "id": "49cccb5d",
   "metadata": {},
   "outputs": [
    {
     "data": {
      "text/plain": [
       "array([3, 4, 5, 6, 7])"
      ]
     },
     "execution_count": 36,
     "metadata": {},
     "output_type": "execute_result"
    }
   ],
   "source": [
    "L[:5]     # from 0 to 4"
   ]
  },
  {
   "cell_type": "code",
   "execution_count": 37,
   "id": "79ff2429",
   "metadata": {},
   "outputs": [
    {
     "data": {
      "text/plain": [
       "array([5, 6, 7, 8, 9])"
      ]
     },
     "execution_count": 37,
     "metadata": {},
     "output_type": "execute_result"
    }
   ],
   "source": [
    "L[2:]"
   ]
  },
  {
   "cell_type": "code",
   "execution_count": 46,
   "id": "75b7af73",
   "metadata": {},
   "outputs": [
    {
     "data": {
      "text/plain": [
       "array([ 1,  4,  7, 10, 13, 16, 19, 22])"
      ]
     },
     "execution_count": 46,
     "metadata": {},
     "output_type": "execute_result"
    }
   ],
   "source": [
    "S=np.arange(1,25,3)\n",
    "S"
   ]
  },
  {
   "cell_type": "code",
   "execution_count": 47,
   "id": "c9bc72b2",
   "metadata": {},
   "outputs": [
    {
     "data": {
      "text/plain": [
       "array([ 1,  4, 20, 20, 20, 16, 19, 22])"
      ]
     },
     "execution_count": 47,
     "metadata": {},
     "output_type": "execute_result"
    }
   ],
   "source": [
    "S[2:5]=20                   #  up to 2 to 4th element assign as 20\n",
    "S"
   ]
  },
  {
   "cell_type": "code",
   "execution_count": 48,
   "id": "248204a6",
   "metadata": {},
   "outputs": [
    {
     "data": {
      "text/plain": [
       "array([ 1,  4,  7, 10, 13, 16, 19, 22])"
      ]
     },
     "execution_count": 48,
     "metadata": {},
     "output_type": "execute_result"
    }
   ],
   "source": [
    "L=np.arange(1,25,3)        #create an array with 3 as sliced\n",
    "L"
   ]
  },
  {
   "cell_type": "code",
   "execution_count": 49,
   "id": "0e6c2a25",
   "metadata": {},
   "outputs": [
    {
     "data": {
      "text/plain": [
       "array([ 7, 10])"
      ]
     },
     "execution_count": 49,
     "metadata": {},
     "output_type": "execute_result"
    }
   ],
   "source": [
    "sliced=L[2:4].copy()  # copy from \n",
    "sliced"
   ]
  },
  {
   "cell_type": "code",
   "execution_count": 50,
   "id": "edd2e56a",
   "metadata": {},
   "outputs": [
    {
     "data": {
      "text/plain": [
       "array([30, 30])"
      ]
     },
     "execution_count": 50,
     "metadata": {},
     "output_type": "execute_result"
    }
   ],
   "source": [
    "sliced[:]=30     #: represent full value as 30\n",
    "sliced"
   ]
  },
  {
   "cell_type": "markdown",
   "id": "765f6fc0",
   "metadata": {},
   "source": [
    "# 2-D array"
   ]
  },
  {
   "cell_type": "code",
   "execution_count": 51,
   "id": "c8a290df",
   "metadata": {},
   "outputs": [
    {
     "data": {
      "text/plain": [
       "array([[1, 2, 3],\n",
       "       [4, 5, 6],\n",
       "       [7, 8, 9]])"
      ]
     },
     "execution_count": 51,
     "metadata": {},
     "output_type": "execute_result"
    }
   ],
   "source": [
    "my_list=np.array([[1,2,3],[4,5,6],[7,8,9]])\n",
    "my_list"
   ]
  },
  {
   "cell_type": "code",
   "execution_count": 52,
   "id": "db6c0413",
   "metadata": {},
   "outputs": [
    {
     "data": {
      "text/plain": [
       "1"
      ]
     },
     "execution_count": 52,
     "metadata": {},
     "output_type": "execute_result"
    }
   ],
   "source": [
    "my_list[0][0]             # 0th row and 0th column"
   ]
  },
  {
   "cell_type": "code",
   "execution_count": 54,
   "id": "103dc05e",
   "metadata": {},
   "outputs": [
    {
     "data": {
      "text/plain": [
       "8"
      ]
     },
     "execution_count": 54,
     "metadata": {},
     "output_type": "execute_result"
    }
   ],
   "source": [
    "my_list[2][1]               #2nd row  1st column"
   ]
  },
  {
   "cell_type": "code",
   "execution_count": 55,
   "id": "2ae8974a",
   "metadata": {},
   "outputs": [
    {
     "data": {
      "text/plain": [
       "array([[1, 2],\n",
       "       [4, 5]])"
      ]
     },
     "execution_count": 55,
     "metadata": {},
     "output_type": "execute_result"
    }
   ],
   "source": [
    "my_list[0:2,0:2]       0 to 2 rows, 0 to 2 columns"
   ]
  },
  {
   "cell_type": "code",
   "execution_count": 7,
   "id": "f941f438",
   "metadata": {},
   "outputs": [
    {
     "name": "stdout",
     "output_type": "stream",
     "text": [
      "[[ 1  2  3  4]\n",
      " [ 8  4  5  6]\n",
      " [ 7  8  9 10]]\n",
      "\n",
      " [[4]\n",
      " [8]]\n"
     ]
    }
   ],
   "source": [
    "my_list=np.array([[1,2,3,4],[8,4,5,6],[7,8,9,10]])\n",
    "# my_list\n",
    "c=my_list[1:3,1:2]\n",
    "print(my_list)\n",
    "print(\"\\n\",c)\n"
   ]
  },
  {
   "cell_type": "code",
   "execution_count": 10,
   "id": "88905813",
   "metadata": {},
   "outputs": [
    {
     "name": "stdout",
     "output_type": "stream",
     "text": [
      "[[ 1  2  3  4]\n",
      " [ 8  4  5  6]\n",
      " [ 7  8  9 10]]\n",
      "[[ 2  3  4]\n",
      " [ 4  5  6]\n",
      " [ 8  9 10]]\n"
     ]
    }
   ],
   "source": [
    "my_list=np.array([[1,2,3,4],[8,4,5,6],[7,8,9,10]])\n",
    "print(my_list)\n",
    "c=my_list[:,1:]\n",
    "print(c)"
   ]
  },
  {
   "cell_type": "code",
   "execution_count": 65,
   "id": "c1740f73",
   "metadata": {},
   "outputs": [
    {
     "data": {
      "text/plain": [
       "array([ 1,  6, 11, 16, 21, 26])"
      ]
     },
     "execution_count": 65,
     "metadata": {},
     "output_type": "execute_result"
    }
   ],
   "source": [
    "L=np.arange(1,30,5)\n",
    "L"
   ]
  },
  {
   "cell_type": "code",
   "execution_count": 66,
   "id": "e8722182",
   "metadata": {},
   "outputs": [
    {
     "data": {
      "text/plain": [
       "array([11, 16, 21, 26])"
      ]
     },
     "execution_count": 66,
     "metadata": {},
     "output_type": "execute_result"
    }
   ],
   "source": [
    "L[L>9]"
   ]
  },
  {
   "cell_type": "code",
   "execution_count": 67,
   "id": "2e704f92",
   "metadata": {},
   "outputs": [
    {
     "data": {
      "text/plain": [
       "array([False, False,  True,  True,  True,  True])"
      ]
     },
     "execution_count": 67,
     "metadata": {},
     "output_type": "execute_result"
    }
   ],
   "source": [
    "L>9"
   ]
  },
  {
   "cell_type": "markdown",
   "id": "082a0549",
   "metadata": {},
   "source": [
    "# Mathematical Operation"
   ]
  },
  {
   "cell_type": "code",
   "execution_count": 4,
   "id": "3002dc8e",
   "metadata": {},
   "outputs": [
    {
     "data": {
      "text/plain": [
       "array([0, 1, 2, 3, 4, 5, 6, 7, 8, 9])"
      ]
     },
     "execution_count": 4,
     "metadata": {},
     "output_type": "execute_result"
    }
   ],
   "source": [
    "L=np.arange(0,10)\n",
    "L"
   ]
  },
  {
   "cell_type": "code",
   "execution_count": 70,
   "id": "c76da205",
   "metadata": {},
   "outputs": [
    {
     "data": {
      "text/plain": [
       "array([ 3,  4,  5,  6,  7,  8,  9, 10, 11, 12])"
      ]
     },
     "execution_count": 70,
     "metadata": {},
     "output_type": "execute_result"
    }
   ],
   "source": [
    "L+3\n"
   ]
  },
  {
   "cell_type": "code",
   "execution_count": 71,
   "id": "122d9701",
   "metadata": {},
   "outputs": [
    {
     "data": {
      "text/plain": [
       "array([-5, -4, -3, -2, -1,  0,  1,  2,  3,  4])"
      ]
     },
     "execution_count": 71,
     "metadata": {},
     "output_type": "execute_result"
    }
   ],
   "source": [
    "L-5"
   ]
  },
  {
   "cell_type": "code",
   "execution_count": 72,
   "id": "63e480bf",
   "metadata": {},
   "outputs": [
    {
     "data": {
      "text/plain": [
       "array([ 0,  2,  4,  6,  8, 10, 12, 14, 16, 18])"
      ]
     },
     "execution_count": 72,
     "metadata": {},
     "output_type": "execute_result"
    }
   ],
   "source": [
    "L*2"
   ]
  },
  {
   "cell_type": "code",
   "execution_count": 73,
   "id": "a239dbc9",
   "metadata": {},
   "outputs": [
    {
     "data": {
      "text/plain": [
       "array([0. , 0.5, 1. , 1.5, 2. , 2.5, 3. , 3.5, 4. , 4.5])"
      ]
     },
     "execution_count": 73,
     "metadata": {},
     "output_type": "execute_result"
    }
   ],
   "source": [
    "L/2"
   ]
  },
  {
   "cell_type": "code",
   "execution_count": 6,
   "id": "634c9e5c",
   "metadata": {},
   "outputs": [
    {
     "data": {
      "text/plain": [
       "array([0.        , 1.        , 1.41421356, 1.73205081, 2.        ,\n",
       "       2.23606798, 2.44948974, 2.64575131, 2.82842712, 3.        ])"
      ]
     },
     "execution_count": 6,
     "metadata": {},
     "output_type": "execute_result"
    }
   ],
   "source": [
    "\n",
    "np.sqrt(L)"
   ]
  },
  {
   "cell_type": "code",
   "execution_count": 7,
   "id": "bc04d976",
   "metadata": {},
   "outputs": [
    {
     "data": {
      "text/plain": [
       "array([ 1.        ,  0.54030231, -0.41614684, -0.9899925 , -0.65364362,\n",
       "        0.28366219,  0.96017029,  0.75390225, -0.14550003, -0.91113026])"
      ]
     },
     "execution_count": 7,
     "metadata": {},
     "output_type": "execute_result"
    }
   ],
   "source": [
    "np.cos(L)"
   ]
  },
  {
   "cell_type": "code",
   "execution_count": 8,
   "id": "1746ab0d",
   "metadata": {},
   "outputs": [
    {
     "data": {
      "text/plain": [
       "array([ 0.        ,  1.55740772, -2.18503986, -0.14254654,  1.15782128,\n",
       "       -3.38051501, -0.29100619,  0.87144798, -6.79971146, -0.45231566])"
      ]
     },
     "execution_count": 8,
     "metadata": {},
     "output_type": "execute_result"
    }
   ],
   "source": [
    "np.tan(L)"
   ]
  },
  {
   "cell_type": "code",
   "execution_count": 9,
   "id": "a754fe2d",
   "metadata": {},
   "outputs": [
    {
     "data": {
      "text/plain": [
       "array([ 0.        ,  0.84147098,  0.90929743,  0.14112001, -0.7568025 ,\n",
       "       -0.95892427, -0.2794155 ,  0.6569866 ,  0.98935825,  0.41211849])"
      ]
     },
     "execution_count": 9,
     "metadata": {},
     "output_type": "execute_result"
    }
   ],
   "source": [
    "np.sin(L)"
   ]
  },
  {
   "cell_type": "code",
   "execution_count": 10,
   "id": "c80c1da6",
   "metadata": {},
   "outputs": [
    {
     "data": {
      "text/plain": [
       "array([1.00000000e+00, 2.71828183e+00, 7.38905610e+00, 2.00855369e+01,\n",
       "       5.45981500e+01, 1.48413159e+02, 4.03428793e+02, 1.09663316e+03,\n",
       "       2.98095799e+03, 8.10308393e+03])"
      ]
     },
     "execution_count": 10,
     "metadata": {},
     "output_type": "execute_result"
    }
   ],
   "source": [
    "np.exp(L)"
   ]
  },
  {
   "cell_type": "markdown",
   "id": "a67a2f08",
   "metadata": {},
   "source": [
    "# Statistics"
   ]
  },
  {
   "cell_type": "code",
   "execution_count": 11,
   "id": "0f5aa6cc",
   "metadata": {},
   "outputs": [
    {
     "data": {
      "text/plain": [
       "9"
      ]
     },
     "execution_count": 11,
     "metadata": {},
     "output_type": "execute_result"
    }
   ],
   "source": [
    "L.max()"
   ]
  },
  {
   "cell_type": "code",
   "execution_count": 12,
   "id": "0d06ed3f",
   "metadata": {},
   "outputs": [
    {
     "data": {
      "text/plain": [
       "0"
      ]
     },
     "execution_count": 12,
     "metadata": {},
     "output_type": "execute_result"
    }
   ],
   "source": [
    "L.min()"
   ]
  },
  {
   "cell_type": "code",
   "execution_count": 13,
   "id": "413f9236",
   "metadata": {},
   "outputs": [
    {
     "data": {
      "text/plain": [
       "8.25"
      ]
     },
     "execution_count": 13,
     "metadata": {},
     "output_type": "execute_result"
    }
   ],
   "source": [
    "L.var()            # variance"
   ]
  },
  {
   "cell_type": "code",
   "execution_count": 14,
   "id": "cc834c14",
   "metadata": {},
   "outputs": [
    {
     "data": {
      "text/plain": [
       "2.8722813232690143"
      ]
     },
     "execution_count": 14,
     "metadata": {},
     "output_type": "execute_result"
    }
   ],
   "source": [
    "L.std()   #standard deviation"
   ]
  },
  {
   "cell_type": "code",
   "execution_count": 18,
   "id": "f8e08101",
   "metadata": {},
   "outputs": [
    {
     "data": {
      "text/plain": [
       "[[1, 2, 3, 4], [5, 2, 3, 4], [2, 4, 5, 8]]"
      ]
     },
     "execution_count": 18,
     "metadata": {},
     "output_type": "execute_result"
    }
   ],
   "source": [
    "my_2D=[[1,2,3,4],[5,2,3,4],[2,4,5,8]]\n",
    "my_2D"
   ]
  },
  {
   "cell_type": "code",
   "execution_count": 20,
   "id": "12edfd71",
   "metadata": {},
   "outputs": [
    {
     "data": {
      "text/plain": [
       "array([[1, 2, 3, 4],\n",
       "       [5, 2, 3, 4],\n",
       "       [2, 4, 5, 8]])"
      ]
     },
     "execution_count": 20,
     "metadata": {},
     "output_type": "execute_result"
    }
   ],
   "source": [
    "my_2D=np.array(my_2D)\n",
    "my_2D"
   ]
  },
  {
   "cell_type": "code",
   "execution_count": 22,
   "id": "f055079c",
   "metadata": {},
   "outputs": [
    {
     "data": {
      "text/plain": [
       "array([ 8,  8, 11, 16])"
      ]
     },
     "execution_count": 22,
     "metadata": {},
     "output_type": "execute_result"
    }
   ],
   "source": [
    "my_2D.sum(axis=0)               #column addition"
   ]
  },
  {
   "cell_type": "code",
   "execution_count": 23,
   "id": "a60f1130",
   "metadata": {},
   "outputs": [
    {
     "data": {
      "text/plain": [
       "array([10, 14, 19])"
      ]
     },
     "execution_count": 23,
     "metadata": {},
     "output_type": "execute_result"
    }
   ],
   "source": [
    "my_2D.sum(axis=1)              #row addition"
   ]
  }
 ],
 "metadata": {
  "kernelspec": {
   "display_name": "Python 3 (ipykernel)",
   "language": "python",
   "name": "python3"
  },
  "language_info": {
   "codemirror_mode": {
    "name": "ipython",
    "version": 3
   },
   "file_extension": ".py",
   "mimetype": "text/x-python",
   "name": "python",
   "nbconvert_exporter": "python",
   "pygments_lexer": "ipython3",
   "version": "3.9.12"
  }
 },
 "nbformat": 4,
 "nbformat_minor": 5
}
