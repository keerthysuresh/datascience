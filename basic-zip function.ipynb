{
 "cells": [
  {
   "cell_type": "markdown",
   "id": "710cdf41",
   "metadata": {},
   "source": [
    "# zip file"
   ]
  },
  {
   "cell_type": "code",
   "execution_count": 3,
   "id": "d2b83637",
   "metadata": {},
   "outputs": [
    {
     "name": "stdout",
     "output_type": "stream",
     "text": [
      "<zip object at 0x0000017D773BDE40>\n"
     ]
    },
    {
     "data": {
      "text/plain": [
       "(('A', 'a', 1), ('B', 'b', 3), ('C', 'c', 4))"
      ]
     },
     "execution_count": 3,
     "metadata": {},
     "output_type": "execute_result"
    }
   ],
   "source": [
    "x=('A','B','C')\n",
    "y=('a','b','c')\n",
    "z=(1,3,4,5)\n",
    "\n",
    "a=zip(x,y,z)\n",
    "print(a)\n",
    "tuple(a)"
   ]
  },
  {
   "cell_type": "markdown",
   "id": "14ca5753",
   "metadata": {},
   "source": [
    "# List Comprehension"
   ]
  },
  {
   "cell_type": "markdown",
   "id": "54b04f23",
   "metadata": {},
   "source": [
    "list comprehension offers a shorter syntax when you want to create a new list based on the values of an existing list."
   ]
  },
  {
   "cell_type": "code",
   "execution_count": 20,
   "id": "c8b2a7de",
   "metadata": {},
   "outputs": [
    {
     "name": "stdout",
     "output_type": "stream",
     "text": [
      "['car', 'bus', 'Scooter']\n"
     ]
    }
   ],
   "source": [
    "vehicles=['car','bus','Scooter','Van']\n",
    "newlist=[]\n",
    "\n",
    "for x in vehicles:\n",
    "    \n",
    "    if ('r' in x) or ('u' in x):\n",
    "        newlist.append(x)\n",
    "print(newlist)\n",
    "        \n",
    "       "
   ]
  },
  {
   "cell_type": "code",
   "execution_count": 2,
   "id": "2ea8aef3",
   "metadata": {},
   "outputs": [
    {
     "name": "stdout",
     "output_type": "stream",
     "text": [
      "['apple', 'banana', 'mango']\n"
     ]
    }
   ],
   "source": [
    "fruits = [\"apple\", \"banana\", \"cherry\", \"kiwi\", \"mango\"]\n",
    "\n",
    "newlist = [x for x in fruits if \"a\" in x]\n",
    "\n",
    "print(newlist)"
   ]
  },
  {
   "cell_type": "code",
   "execution_count": 21,
   "id": "87f84f91",
   "metadata": {},
   "outputs": [
    {
     "name": "stdout",
     "output_type": "stream",
     "text": [
      "['car', 'bus', 'Scooter']\n"
     ]
    }
   ],
   "source": [
    "vehicles=['car','bus','Scooter','Van']\n",
    "newlist=[x for x in vehicles if ('r' in x) or ('u' in x)]\n",
    "print(newlist)"
   ]
  },
  {
   "cell_type": "code",
   "execution_count": null,
   "id": "4c32ceff",
   "metadata": {},
   "outputs": [],
   "source": []
  },
  {
   "cell_type": "code",
   "execution_count": 10,
   "id": "13f017c9",
   "metadata": {},
   "outputs": [
    {
     "name": "stdout",
     "output_type": "stream",
     "text": [
      "Output Dictionary using dictionary comprehensions: {3: 27}\n"
     ]
    }
   ],
   "source": [
    "# Using Dictionary comprehensions\n",
    "# for constructing output dictionary\n",
    "\n",
    "input_list = [1,2,3,4,5,6,7]\n",
    "\n",
    "dict_using_comp = {var:var ** 3 for var in input_list if var ==3}\n",
    "\n",
    "print(\"Output Dictionary using dictionary comprehensions:\",dict_using_comp)\n"
   ]
  },
  {
   "cell_type": "code",
   "execution_count": 23,
   "id": "8f69e5d7",
   "metadata": {},
   "outputs": [
    {
     "name": "stdout",
     "output_type": "stream",
     "text": [
      "Output values using generator comprehensions: <generator object <genexpr> at 0x00000188C5A773C0>\n",
      "2 4 4 6 "
     ]
    }
   ],
   "source": [
    "input_list = [1, 2, 3, 4, 4, 5, 6, 7, 7]\n",
    "\n",
    "output_gen = (var for var in input_list if var % 2 == 0)\n",
    "\n",
    "print(\"Output values using generator comprehensions:\", output_gen)\n",
    "\n",
    "for var in output_gen:\n",
    "\tprint(var, end = ' ')\n"
   ]
  },
  {
   "cell_type": "code",
   "execution_count": 13,
   "id": "30456641",
   "metadata": {},
   "outputs": [
    {
     "data": {
      "text/plain": [
       "6"
      ]
     },
     "execution_count": 13,
     "metadata": {},
     "output_type": "execute_result"
    }
   ],
   "source": [
    "list1=[1,2,3]\n",
    "def sum1(list1):\n",
    "    s=0\n",
    "    for i in list1:\n",
    "        s=s+i\n",
    "    return s\n",
    "sum1(list1)"
   ]
  },
  {
   "cell_type": "code",
   "execution_count": 1,
   "id": "3ae25521",
   "metadata": {},
   "outputs": [
    {
     "name": "stdout",
     "output_type": "stream",
     "text": [
      "4\n",
      "5\n",
      "3 and 5\n",
      "6\n",
      "7\n",
      "5 and 7\n",
      "8\n",
      "9\n",
      "10\n",
      "11\n",
      "12\n",
      "13\n",
      "11 and 13\n",
      "14\n",
      "15\n",
      "16\n",
      "17\n",
      "18\n",
      "19\n",
      "17 and 19\n",
      "20\n",
      "21\n",
      "22\n",
      "23\n",
      "24\n",
      "25\n",
      "26\n",
      "27\n",
      "28\n",
      "29\n",
      "30\n",
      "31\n",
      "29 and 31\n",
      "32\n",
      "33\n",
      "34\n",
      "35\n",
      "36\n",
      "37\n",
      "38\n",
      "39\n",
      "40\n",
      "41\n",
      "42\n",
      "43\n",
      "41 and 43\n",
      "44\n",
      "45\n",
      "46\n",
      "47\n",
      "48\n",
      "49\n",
      "50\n",
      "51\n",
      "52\n",
      "53\n",
      "54\n",
      "55\n",
      "56\n",
      "57\n",
      "58\n",
      "59\n",
      "60\n",
      "61\n",
      "59 and 61\n",
      "62\n",
      "63\n",
      "64\n",
      "65\n",
      "66\n",
      "67\n",
      "68\n",
      "69\n",
      "70\n",
      "71\n",
      "72\n",
      "73\n",
      "71 and 73\n",
      "74\n",
      "75\n",
      "76\n",
      "77\n",
      "78\n",
      "79\n",
      "80\n",
      "81\n",
      "82\n",
      "83\n",
      "84\n",
      "85\n",
      "86\n",
      "87\n",
      "88\n",
      "89\n",
      "90\n",
      "91\n",
      "92\n",
      "93\n",
      "94\n",
      "95\n",
      "96\n",
      "97\n",
      "98\n",
      "99\n",
      "100\n",
      "101\n"
     ]
    }
   ],
   "source": [
    "def checkprime(max_):\n",
    "    for i in range(2,max_):\n",
    "        if max_%i==0:\n",
    "            return False\n",
    "    return True\n",
    "\n",
    "def twin_prime(max_):\n",
    "    for first_num in range(2,max_):\n",
    "        second=first_num+2\n",
    "        print(second)\n",
    "        if checkprime(first_num) and checkprime(second):\n",
    "            print('{} and {}'.format(first_num,second))\n",
    "twin_prime(100)    "
   ]
  },
  {
   "cell_type": "code",
   "execution_count": null,
   "id": "b8574464",
   "metadata": {},
   "outputs": [],
   "source": [
    "0"
   ]
  }
 ],
 "metadata": {
  "kernelspec": {
   "display_name": "Python 3 (ipykernel)",
   "language": "python",
   "name": "python3"
  },
  "language_info": {
   "codemirror_mode": {
    "name": "ipython",
    "version": 3
   },
   "file_extension": ".py",
   "mimetype": "text/x-python",
   "name": "python",
   "nbconvert_exporter": "python",
   "pygments_lexer": "ipython3",
   "version": "3.9.12"
  }
 },
 "nbformat": 4,
 "nbformat_minor": 5
}
