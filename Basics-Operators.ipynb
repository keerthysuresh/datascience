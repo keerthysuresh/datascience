{
 "cells": [
  {
   "cell_type": "markdown",
   "id": "e7f2084a",
   "metadata": {},
   "source": [
    "# Operators"
   ]
  },
  {
   "cell_type": "code",
   "execution_count": 6,
   "id": "a4c67dbd",
   "metadata": {},
   "outputs": [
    {
     "name": "stdout",
     "output_type": "stream",
     "text": [
      "62\n",
      "6\n",
      "952\n",
      "1\n",
      "1.2142857142857142\n",
      "7610438437126150739469436175738091335581696\n",
      "6\n"
     ]
    }
   ],
   "source": [
    "x=34\n",
    "y=28\n",
    "\n",
    "print(x+y)\n",
    "print(x-y)\n",
    "print(x*y)\n",
    "print(x//y)       #floor division\n",
    "print(x/y)\n",
    "print(x**y)    #exponent operator of square root\n",
    "print(x%y)     #modulus "
   ]
  },
  {
   "cell_type": "code",
   "execution_count": 8,
   "id": "bf46ec73",
   "metadata": {},
   "outputs": [
    {
     "name": "stdout",
     "output_type": "stream",
     "text": [
      "False\n",
      "True\n",
      "False\n"
     ]
    }
   ],
   "source": [
    "x=True   #1\n",
    "y=False   #0\n",
    "\n",
    "print(x and y)   #1*0=0\n",
    "\n",
    "print(x or y)    #1+0=1\n",
    "\n",
    "print(not x)    #compliment"
   ]
  },
  {
   "cell_type": "markdown",
   "id": "f397a470",
   "metadata": {},
   "source": [
    "# Identity operators"
   ]
  },
  {
   "cell_type": "code",
   "execution_count": 1,
   "id": "cfe9344e",
   "metadata": {},
   "outputs": [
    {
     "name": "stdout",
     "output_type": "stream",
     "text": [
      "False\n"
     ]
    }
   ],
   "source": [
    "x1=5\n",
    "x2=5\n",
    "y1='Hello'\n",
    "y2='Hello'\n",
    "x3=[1,2,3]\n",
    "y3=[1,2,3]\n",
    "\n",
    "print(x1 is y1)"
   ]
  },
  {
   "cell_type": "code",
   "execution_count": 1,
   "id": "b925bebd",
   "metadata": {},
   "outputs": [
    {
     "name": "stdout",
     "output_type": "stream",
     "text": [
      "False\n"
     ]
    }
   ],
   "source": [
    "x3=[1,2,3]\n",
    "y3=[1,2,3]\n",
    "print(x3 is y3)"
   ]
  },
  {
   "cell_type": "code",
   "execution_count": 3,
   "id": "36c1202d",
   "metadata": {},
   "outputs": [
    {
     "name": "stdout",
     "output_type": "stream",
     "text": [
      "True\n"
     ]
    }
   ],
   "source": [
    "print( x2 is not y2)"
   ]
  },
  {
   "cell_type": "code",
   "execution_count": 13,
   "id": "1c845aae",
   "metadata": {},
   "outputs": [
    {
     "name": "stdout",
     "output_type": "stream",
     "text": [
      "False\n"
     ]
    }
   ],
   "source": [
    "print(b is c)"
   ]
  },
  {
   "cell_type": "code",
   "execution_count": 5,
   "id": "ad5d74a9",
   "metadata": {},
   "outputs": [
    {
     "name": "stdout",
     "output_type": "stream",
     "text": [
      "True\n"
     ]
    }
   ],
   "source": [
    "print(x3 is b )"
   ]
  },
  {
   "cell_type": "code",
   "execution_count": 6,
   "id": "7dc8a4ca",
   "metadata": {},
   "outputs": [
    {
     "name": "stdout",
     "output_type": "stream",
     "text": [
      "True\n"
     ]
    }
   ],
   "source": [
    "print(c is y3)"
   ]
  },
  {
   "cell_type": "code",
   "execution_count": 10,
   "id": "c06d53c2",
   "metadata": {},
   "outputs": [
    {
     "name": "stdout",
     "output_type": "stream",
     "text": [
      "False\n"
     ]
    }
   ],
   "source": [
    "print(b is c)"
   ]
  },
  {
   "cell_type": "code",
   "execution_count": 9,
   "id": "12dd86ef",
   "metadata": {},
   "outputs": [
    {
     "name": "stdout",
     "output_type": "stream",
     "text": [
      "True\n"
     ]
    }
   ],
   "source": [
    "print(x1 is x2)"
   ]
  },
  {
   "cell_type": "code",
   "execution_count": 3,
   "id": "bf9063f2",
   "metadata": {},
   "outputs": [
    {
     "name": "stdout",
     "output_type": "stream",
     "text": [
      "False\n"
     ]
    }
   ],
   "source": [
    "print(x3 is y3)"
   ]
  },
  {
   "cell_type": "code",
   "execution_count": 4,
   "id": "acfd7691",
   "metadata": {},
   "outputs": [
    {
     "name": "stdout",
     "output_type": "stream",
     "text": [
      "True\n"
     ]
    }
   ],
   "source": [
    "b=x3=y3=[1,2,3]\n",
    "print(x3 is y3)"
   ]
  },
  {
   "cell_type": "code",
   "execution_count": null,
   "id": "f7761f54",
   "metadata": {},
   "outputs": [],
   "source": []
  }
 ],
 "metadata": {
  "kernelspec": {
   "display_name": "Python 3 (ipykernel)",
   "language": "python",
   "name": "python3"
  },
  "language_info": {
   "codemirror_mode": {
    "name": "ipython",
    "version": 3
   },
   "file_extension": ".py",
   "mimetype": "text/x-python",
   "name": "python",
   "nbconvert_exporter": "python",
   "pygments_lexer": "ipython3",
   "version": "3.9.12"
  }
 },
 "nbformat": 4,
 "nbformat_minor": 5
}
