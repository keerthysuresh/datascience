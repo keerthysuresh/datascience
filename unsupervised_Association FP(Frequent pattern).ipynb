{
 "cells": [
  {
   "cell_type": "code",
   "execution_count": 6,
   "id": "7d04591a",
   "metadata": {},
   "outputs": [
    {
     "name": "stdout",
     "output_type": "stream",
     "text": [
      "Collecting pyfpgrowthNote: you may need to restart the kernel to use updated packages.\n",
      "  Downloading pyfpgrowth-1.0.tar.gz (1.6 MB)\n",
      "Building wheels for collected packages: pyfpgrowth\n",
      "  Building wheel for pyfpgrowth (setup.py): started\n",
      "  Building wheel for pyfpgrowth (setup.py): finished with status 'done'\n",
      "  Created wheel for pyfpgrowth: filename=pyfpgrowth-1.0-py2.py3-none-any.whl size=5504 sha256=8b9003d0bfce3a191aefd654c7fe297a173ae3a6da7ca0be0a3fe7868afe39b6\n",
      "  Stored in directory: c:\\users\\user\\appdata\\local\\pip\\cache\\wheels\\1d\\15\\f3\\26c63bd6040ea8f62d59dba0b4fe4dffe551a0f93879734a91\n",
      "Successfully built pyfpgrowth\n",
      "Installing collected packages: pyfpgrowth\n",
      "Successfully installed pyfpgrowth-1.0\n",
      "\n"
     ]
    }
   ],
   "source": [
    "pip install pyfpgrowth"
   ]
  },
  {
   "cell_type": "code",
   "execution_count": 7,
   "id": "de90abc4",
   "metadata": {},
   "outputs": [],
   "source": [
    "import numpy as np\n",
    "import pandas as pd\n",
    "import seaborn as sns\n",
    "from matplotlib import pyplot as plt\n",
    "import pyfpgrowth"
   ]
  },
  {
   "cell_type": "code",
   "execution_count": 11,
   "id": "2af0b3d3",
   "metadata": {},
   "outputs": [],
   "source": [
    "transactions=[\n",
    "    ['Bread','Butter','Jam','Juice','Cream'],\n",
    "    ['Bread','Jam','Juice'],\n",
    "    ['Bread','Butter','Chicken','Cream'],\n",
    "    ]"
   ]
  },
  {
   "cell_type": "code",
   "execution_count": 12,
   "id": "8ae41ba7",
   "metadata": {},
   "outputs": [
    {
     "data": {
      "text/plain": [
       "{('Chicken',): 1,\n",
       " ('Chicken', 'Cream'): 1,\n",
       " ('Butter', 'Chicken'): 1,\n",
       " ('Bread', 'Chicken'): 1,\n",
       " ('Butter', 'Chicken', 'Cream'): 1,\n",
       " ('Bread', 'Chicken', 'Cream'): 1,\n",
       " ('Bread', 'Butter', 'Chicken'): 1,\n",
       " ('Bread', 'Butter', 'Chicken', 'Cream'): 1,\n",
       " ('Butter',): 2,\n",
       " ('Bread', 'Butter'): 2,\n",
       " ('Jam',): 2,\n",
       " ('Butter', 'Jam'): 1,\n",
       " ('Bread', 'Jam'): 2,\n",
       " ('Bread', 'Butter', 'Jam'): 1,\n",
       " ('Juice',): 2,\n",
       " ('Jam', 'Juice'): 2,\n",
       " ('Butter', 'Juice'): 1,\n",
       " ('Bread', 'Juice'): 2,\n",
       " ('Butter', 'Jam', 'Juice'): 1,\n",
       " ('Bread', 'Jam', 'Juice'): 2,\n",
       " ('Bread', 'Butter', 'Juice'): 1,\n",
       " ('Bread', 'Butter', 'Jam', 'Juice'): 1,\n",
       " ('Cream',): 2,\n",
       " ('Cream', 'Juice'): 1,\n",
       " ('Cream', 'Jam'): 1,\n",
       " ('Butter', 'Cream'): 2,\n",
       " ('Bread', 'Cream'): 2,\n",
       " ('Cream', 'Jam', 'Juice'): 1,\n",
       " ('Butter', 'Cream', 'Juice'): 1,\n",
       " ('Bread', 'Cream', 'Juice'): 1,\n",
       " ('Butter', 'Cream', 'Jam'): 1,\n",
       " ('Bread', 'Cream', 'Jam'): 1,\n",
       " ('Bread', 'Butter', 'Cream'): 2,\n",
       " ('Butter', 'Cream', 'Jam', 'Juice'): 1,\n",
       " ('Bread', 'Cream', 'Jam', 'Juice'): 1,\n",
       " ('Bread', 'Butter', 'Cream', 'Juice'): 1,\n",
       " ('Bread', 'Butter', 'Cream', 'Jam'): 1,\n",
       " ('Bread', 'Butter', 'Cream', 'Jam', 'Juice'): 1,\n",
       " ('Bread',): 3}"
      ]
     },
     "execution_count": 12,
     "metadata": {},
     "output_type": "execute_result"
    }
   ],
   "source": [
    "freq_patt=pyfpgrowth.find_frequent_patterns(transactions=transactions,support_threshold=1)# 1um athinu mele \n",
    "freq_patt"
   ]
  },
  {
   "cell_type": "code",
   "execution_count": 14,
   "id": "53f39685",
   "metadata": {},
   "outputs": [
    {
     "data": {
      "text/plain": [
       "{('Butter',): 2,\n",
       " ('Bread', 'Butter'): 2,\n",
       " ('Jam',): 2,\n",
       " ('Bread', 'Jam'): 2,\n",
       " ('Juice',): 2,\n",
       " ('Jam', 'Juice'): 2,\n",
       " ('Bread', 'Juice'): 2,\n",
       " ('Bread', 'Jam', 'Juice'): 2,\n",
       " ('Cream',): 2,\n",
       " ('Butter', 'Cream'): 2,\n",
       " ('Bread', 'Cream'): 2,\n",
       " ('Bread', 'Butter', 'Cream'): 2,\n",
       " ('Bread',): 3}"
      ]
     },
     "execution_count": 14,
     "metadata": {},
     "output_type": "execute_result"
    }
   ],
   "source": [
    "freq_patt2=pyfpgrowth.find_frequent_patterns(transactions=transactions,support_threshold=2)#2 um athinu mele\n",
    "freq_patt2"
   ]
  },
  {
   "cell_type": "code",
   "execution_count": 15,
   "id": "3dea1398",
   "metadata": {},
   "outputs": [
    {
     "data": {
      "text/plain": [
       "{('Chicken',): (('Bread', 'Butter', 'Cream'), 1.0),\n",
       " ('Cream',): (('Bread', 'Butter', 'Jam', 'Juice'), 0.5),\n",
       " ('Butter',): (('Bread', 'Cream', 'Jam', 'Juice'), 0.5),\n",
       " ('Butter', 'Chicken'): (('Bread', 'Cream'), 1.0),\n",
       " ('Butter', 'Cream'): (('Bread', 'Jam', 'Juice'), 0.5),\n",
       " ('Chicken', 'Cream'): (('Bread', 'Butter'), 1.0),\n",
       " ('Bread', 'Chicken'): (('Butter', 'Cream'), 1.0),\n",
       " ('Bread', 'Cream'): (('Butter', 'Jam', 'Juice'), 0.5),\n",
       " ('Bread', 'Butter'): (('Cream', 'Jam', 'Juice'), 0.5),\n",
       " ('Bread', 'Butter', 'Chicken'): (('Cream',), 1.0),\n",
       " ('Bread', 'Butter', 'Cream'): (('Jam', 'Juice'), 0.5),\n",
       " ('Bread', 'Chicken', 'Cream'): (('Butter',), 1.0),\n",
       " ('Butter', 'Chicken', 'Cream'): (('Bread',), 1.0),\n",
       " ('Bread',): (('Butter', 'Cream'), 0.6666666666666666),\n",
       " ('Jam',): (('Bread', 'Butter', 'Cream', 'Juice'), 0.5),\n",
       " ('Bread', 'Jam'): (('Butter', 'Cream', 'Juice'), 0.5),\n",
       " ('Butter', 'Jam'): (('Bread', 'Cream', 'Juice'), 1.0),\n",
       " ('Juice',): (('Bread', 'Butter', 'Cream', 'Jam'), 0.5),\n",
       " ('Butter', 'Juice'): (('Bread', 'Cream', 'Jam'), 1.0),\n",
       " ('Jam', 'Juice'): (('Bread', 'Butter', 'Cream'), 0.5),\n",
       " ('Bread', 'Juice'): (('Butter', 'Cream', 'Jam'), 0.5),\n",
       " ('Bread', 'Butter', 'Jam'): (('Cream', 'Juice'), 1.0),\n",
       " ('Bread', 'Butter', 'Juice'): (('Cream', 'Jam'), 1.0),\n",
       " ('Bread', 'Jam', 'Juice'): (('Butter', 'Cream'), 0.5),\n",
       " ('Butter', 'Jam', 'Juice'): (('Bread', 'Cream'), 1.0),\n",
       " ('Cream', 'Jam'): (('Bread', 'Butter', 'Juice'), 1.0),\n",
       " ('Cream', 'Juice'): (('Bread', 'Butter', 'Jam'), 1.0),\n",
       " ('Butter', 'Cream', 'Jam'): (('Bread', 'Juice'), 1.0),\n",
       " ('Butter', 'Cream', 'Juice'): (('Bread', 'Jam'), 1.0),\n",
       " ('Cream', 'Jam', 'Juice'): (('Bread', 'Butter'), 1.0),\n",
       " ('Bread', 'Cream', 'Jam'): (('Butter', 'Juice'), 1.0),\n",
       " ('Bread', 'Cream', 'Juice'): (('Butter', 'Jam'), 1.0),\n",
       " ('Bread', 'Butter', 'Cream', 'Jam'): (('Juice',), 1.0),\n",
       " ('Bread', 'Butter', 'Cream', 'Juice'): (('Jam',), 1.0),\n",
       " ('Bread', 'Butter', 'Jam', 'Juice'): (('Cream',), 1.0),\n",
       " ('Bread', 'Cream', 'Jam', 'Juice'): (('Butter',), 1.0),\n",
       " ('Butter', 'Cream', 'Jam', 'Juice'): (('Bread',), 1.0)}"
      ]
     },
     "execution_count": 15,
     "metadata": {},
     "output_type": "execute_result"
    }
   ],
   "source": [
    "rules=pyfpgrowth.generate_association_rules(patterns=freq_patt,confidence_threshold=0.5)   #0.5 means 50 percentage and athinu mukalil ulla chance\n",
    "rules"
   ]
  },
  {
   "cell_type": "code",
   "execution_count": null,
   "id": "ab24fe0a",
   "metadata": {},
   "outputs": [],
   "source": []
  }
 ],
 "metadata": {
  "kernelspec": {
   "display_name": "Python 3 (ipykernel)",
   "language": "python",
   "name": "python3"
  },
  "language_info": {
   "codemirror_mode": {
    "name": "ipython",
    "version": 3
   },
   "file_extension": ".py",
   "mimetype": "text/x-python",
   "name": "python",
   "nbconvert_exporter": "python",
   "pygments_lexer": "ipython3",
   "version": "3.9.12"
  }
 },
 "nbformat": 4,
 "nbformat_minor": 5
}
