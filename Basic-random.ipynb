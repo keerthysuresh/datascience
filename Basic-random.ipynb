{
 "cells": [
  {
   "cell_type": "raw",
   "id": "a4a36ce2",
   "metadata": {},
   "source": [
    "seed()\tInitialize the random number generator\n",
    "getstate()\tReturns the current internal state of the random number generator\n",
    "setstate()\tRestores the internal state of the random number generator\n",
    "getrandbits()\tReturns a number representing the random bits\n",
    "randrange()\tReturns a random number between the given range\n",
    "randint()\tReturns a random number between the given range\n",
    "choice()\tReturns a random element from the given sequence\n",
    "choices()\tReturns a list with a random selection from the given sequence\n",
    "shuffle()\tTakes a sequence and returns the sequence in a random order\n",
    "sample()\tReturns a given sample of a sequence\n",
    "random()\tReturns a random float number between 0 and 1\n",
    "uniform()\tReturns a random float number between two given parameters\n",
    "triangular()\tReturns a random float number between two given parameters, you can also set a mode parameter to specify the midpoint between the two other parameters\n",
    "betavariate()\tReturns a random float number between 0 and 1 based on the Beta distribution (used in statistics)\n",
    "expovariate()\tReturns a random float number based on the Exponential distribution (used in statistics)\n",
    "gammavariate()\tReturns a random float number based on the Gamma distribution (used in statistics)\n",
    "gauss()\tReturns a random float number based on the Gaussian distribution (used in probability theories)\n",
    "lognormvariate()\tReturns a random float number based on a log-normal distribution (used in probability theories)\n",
    "normalvariate()\tReturns a random float number based on the normal distribution (used in probability theories)\n",
    "vonmisesvariate()\tReturns a random float number based on the von Mises distribution (used in directional statistics)\n",
    "paretovariate()\tReturns a random float number based on the Pareto distribution (used in probability theories)\n",
    "weibullvariate()\tReturns a random float number based on the Weibull distribution (used in statistics)"
   ]
  },
  {
   "cell_type": "markdown",
   "id": "24b57203",
   "metadata": {},
   "source": [
    "# "
   ]
  }
 ],
 "metadata": {
  "kernelspec": {
   "display_name": "Python 3 (ipykernel)",
   "language": "python",
   "name": "python3"
  },
  "language_info": {
   "codemirror_mode": {
    "name": "ipython",
    "version": 3
   },
   "file_extension": ".py",
   "mimetype": "text/x-python",
   "name": "python",
   "nbconvert_exporter": "python",
   "pygments_lexer": "ipython3",
   "version": "3.9.12"
  }
 },
 "nbformat": 4,
 "nbformat_minor": 5
}
