{
 "cells": [
  {
   "cell_type": "raw",
   "id": "a248ed0f",
   "metadata": {},
   "source": [
    "Sets are used to store multiple items in a single variable\n",
    "\n",
    "set is one of the 4 built in datatypes in python used to store collections of data, the other 3 are list ,tuple and dictionary\n",
    "\n",
    "A set is a collection which is unordered, unindexed, unchangeable(you can remove and add items)itms cant be changed\n",
    "\n",
    "set are written with curly braces\n",
    " duplicates not allowed.\n"
   ]
  },
  {
   "cell_type": "code",
   "execution_count": 1,
   "id": "f55166ee",
   "metadata": {},
   "outputs": [
    {
     "name": "stdout",
     "output_type": "stream",
     "text": [
      "{'cherry', 'apple', 'banana'}\n"
     ]
    }
   ],
   "source": [
    "thisset={\"apple\",\"banana\",\"cherry\"}\n",
    "print(thisset)"
   ]
  },
  {
   "cell_type": "code",
   "execution_count": 1,
   "id": "0f6a21d2",
   "metadata": {},
   "outputs": [
    {
     "data": {
      "text/plain": [
       "{'apple', 'banana', 'cherry'}"
      ]
     },
     "execution_count": 1,
     "metadata": {},
     "output_type": "execute_result"
    }
   ],
   "source": [
    "thisset={\"apple\",\"banana\",\"cherry\"}\n",
    "thisset"
   ]
  },
  {
   "cell_type": "code",
   "execution_count": 2,
   "id": "7f509c9a",
   "metadata": {},
   "outputs": [
    {
     "data": {
      "text/plain": [
       "{'apple', 'banana', 'cherry'}"
      ]
     },
     "execution_count": 2,
     "metadata": {},
     "output_type": "execute_result"
    }
   ],
   "source": [
    "thisset={\"apple\",\"banana\",\"cherry\",\"cherry\",\"apple\"}\n",
    "thisset"
   ]
  },
  {
   "cell_type": "code",
   "execution_count": 3,
   "id": "3e96973c",
   "metadata": {},
   "outputs": [
    {
     "data": {
      "text/plain": [
       "3"
      ]
     },
     "execution_count": 3,
     "metadata": {},
     "output_type": "execute_result"
    }
   ],
   "source": [
    "len(thisset)"
   ]
  },
  {
   "cell_type": "code",
   "execution_count": 4,
   "id": "37f9a167",
   "metadata": {},
   "outputs": [
    {
     "name": "stdout",
     "output_type": "stream",
     "text": [
      "<class 'set'>\n"
     ]
    }
   ],
   "source": [
    "print(type(thisset))"
   ]
  },
  {
   "cell_type": "code",
   "execution_count": 5,
   "id": "0fbe6af0",
   "metadata": {},
   "outputs": [
    {
     "data": {
      "text/plain": [
       "set"
      ]
     },
     "execution_count": 5,
     "metadata": {},
     "output_type": "execute_result"
    }
   ],
   "source": [
    "type(thisset)"
   ]
  },
  {
   "cell_type": "code",
   "execution_count": 6,
   "id": "e40776e8",
   "metadata": {},
   "outputs": [
    {
     "ename": "TypeError",
     "evalue": "'set' object is not subscriptable",
     "output_type": "error",
     "traceback": [
      "\u001b[1;31m---------------------------------------------------------------------------\u001b[0m",
      "\u001b[1;31mTypeError\u001b[0m                                 Traceback (most recent call last)",
      "\u001b[1;32m~\\AppData\\Local\\Temp/ipykernel_19008/872395082.py\u001b[0m in \u001b[0;36m<module>\u001b[1;34m\u001b[0m\n\u001b[0;32m      1\u001b[0m \u001b[1;31m#cant access with index\u001b[0m\u001b[1;33m\u001b[0m\u001b[1;33m\u001b[0m\u001b[0m\n\u001b[1;32m----> 2\u001b[1;33m \u001b[0mthisset\u001b[0m\u001b[1;33m[\u001b[0m\u001b[1;36m0\u001b[0m\u001b[1;33m]\u001b[0m\u001b[1;33m\u001b[0m\u001b[1;33m\u001b[0m\u001b[0m\n\u001b[0m",
      "\u001b[1;31mTypeError\u001b[0m: 'set' object is not subscriptable"
     ]
    }
   ],
   "source": [
    "#cant access with index\n",
    "thisset[0]"
   ]
  },
  {
   "cell_type": "markdown",
   "id": "b48d0355",
   "metadata": {},
   "source": [
    "# Set Constructor"
   ]
  },
  {
   "cell_type": "raw",
   "id": "a7cabe0b",
   "metadata": {},
   "source": [
    "possible to make set() constructor to make a set"
   ]
  },
  {
   "cell_type": "code",
   "execution_count": 15,
   "id": "6374f06d",
   "metadata": {},
   "outputs": [
    {
     "name": "stdout",
     "output_type": "stream",
     "text": [
      "{1, 2, 3, 4, 5, 6, 7}\n"
     ]
    }
   ],
   "source": [
    "a=set((1,2,3,4,5,6,6,7))   #note the double braces\n",
    "print(a)"
   ]
  },
  {
   "cell_type": "markdown",
   "id": "be2f1186",
   "metadata": {},
   "source": [
    "# For loop in set"
   ]
  },
  {
   "cell_type": "code",
   "execution_count": 1,
   "id": "298db18d",
   "metadata": {},
   "outputs": [
    {
     "name": "stdout",
     "output_type": "stream",
     "text": [
      "scientist\n",
      "engineer\n",
      "doctor\n"
     ]
    }
   ],
   "source": [
    "b={'doctor','engineer','scientist'}\n",
    "for a in b:\n",
    "    print(a)"
   ]
  },
  {
   "cell_type": "code",
   "execution_count": 3,
   "id": "02663e26",
   "metadata": {},
   "outputs": [
    {
     "name": "stdout",
     "output_type": "stream",
     "text": [
      "['scientist', 'engineer', 'doctor']\n"
     ]
    }
   ],
   "source": [
    "b={'doctor','engineer','scientist'}\n",
    "t=[]\n",
    "for i in b:\n",
    "    \n",
    "    t.append(i)\n",
    "print(t)"
   ]
  },
  {
   "cell_type": "code",
   "execution_count": 5,
   "id": "032a0d25",
   "metadata": {},
   "outputs": [
    {
     "name": "stdout",
     "output_type": "stream",
     "text": [
      "1 a\n",
      "3 b\n"
     ]
    }
   ],
   "source": [
    "a={1:'a',3:'b'}\n",
    "for i,d in a.items():\n",
    "    print(i,d)\n",
    "#     print(d)\n",
    "    "
   ]
  },
  {
   "cell_type": "code",
   "execution_count": 1,
   "id": "07789597",
   "metadata": {},
   "outputs": [
    {
     "name": "stdout",
     "output_type": "stream",
     "text": [
      "False\n"
     ]
    }
   ],
   "source": [
    "b={'doctor','engineer','scientist'}\n",
    "print(\"teacher\" in b)"
   ]
  },
  {
   "cell_type": "code",
   "execution_count": 4,
   "id": "6ea9319e",
   "metadata": {},
   "outputs": [
    {
     "name": "stdout",
     "output_type": "stream",
     "text": [
      "{'scientist', 'fitter', 'engineer', 'doctor'}\n"
     ]
    }
   ],
   "source": [
    "#add an item\n",
    "jobs={'doctor','engineer','scientist'}\n",
    "jobs.add(\"fitter\")\n",
    "print(jobs)"
   ]
  },
  {
   "cell_type": "code",
   "execution_count": 1,
   "id": "6016deef",
   "metadata": {},
   "outputs": [
    {
     "name": "stdout",
     "output_type": "stream",
     "text": [
      "{'green', 'mango', 'yellow', 'red', 'apple', 'orange', 'plum', 'cherry'}\n"
     ]
    }
   ],
   "source": [
    "\n",
    "#to add items from other sets, use update() method\n",
    "\n",
    "thisset={'red','yellow','green','orange','cherry'}\n",
    "fruits={'cherry','plum','apple','mango'}\n",
    "\n",
    "thisset.update(fruits)    #exclude duplicate\n",
    "print(thisset)"
   ]
  },
  {
   "cell_type": "code",
   "execution_count": 37,
   "id": "2f8adfc7",
   "metadata": {},
   "outputs": [
    {
     "data": {
      "text/plain": [
       "{1, 2, 3, 4, 5, 'a', 'b', 'c'}"
      ]
     },
     "execution_count": 37,
     "metadata": {},
     "output_type": "execute_result"
    }
   ],
   "source": [
    "set1={1,2,3,4,5}\n",
    "set2={'a',\"b\",\"c\",\"b\",\"a\"}   # exclude duplicate\n",
    "\n",
    "sets=set1.union(set2)\n",
    "sets"
   ]
  },
  {
   "cell_type": "code",
   "execution_count": 24,
   "id": "27ad9ceb",
   "metadata": {},
   "outputs": [
    {
     "data": {
      "text/plain": [
       "{'apple', 'cherry', 'mango'}"
      ]
     },
     "execution_count": 24,
     "metadata": {},
     "output_type": "execute_result"
    }
   ],
   "source": [
    "#remove an item\n",
    "fruits={'cherry','plum','apple','mango'}\n",
    "fruits.remove('plum')\n",
    "fruits"
   ]
  },
  {
   "cell_type": "code",
   "execution_count": 25,
   "id": "ce20c343",
   "metadata": {},
   "outputs": [
    {
     "data": {
      "text/plain": [
       "{'apple', 'cherry', 'mango'}"
      ]
     },
     "execution_count": 25,
     "metadata": {},
     "output_type": "execute_result"
    }
   ],
   "source": [
    "fruits={'cherry','plum','apple','mango'}\n",
    "fruits.discard('plum')\n",
    "fruits"
   ]
  },
  {
   "cell_type": "code",
   "execution_count": 3,
   "id": "b9764233",
   "metadata": {},
   "outputs": [
    {
     "data": {
      "text/plain": [
       "{2, 3, 4, 5, 6, 7, 78}"
      ]
     },
     "execution_count": 3,
     "metadata": {},
     "output_type": "execute_result"
    }
   ],
   "source": [
    "num={1,2,3,4,5,6,7,78}\n",
    "num.pop() # unordered, so dont know which item gets removed\n",
    "num"
   ]
  },
  {
   "cell_type": "code",
   "execution_count": 1,
   "id": "6a91cda5",
   "metadata": {},
   "outputs": [
    {
     "data": {
      "text/plain": [
       "{'cherry', 'mango', 'plum'}"
      ]
     },
     "execution_count": 1,
     "metadata": {},
     "output_type": "execute_result"
    }
   ],
   "source": [
    "fruits={'cherry','plum','apple','mango'}\n",
    "fruits.pop()\n",
    "fruits"
   ]
  },
  {
   "cell_type": "code",
   "execution_count": 30,
   "id": "980f2ce0",
   "metadata": {},
   "outputs": [
    {
     "data": {
      "text/plain": [
       "set()"
      ]
     },
     "execution_count": 30,
     "metadata": {},
     "output_type": "execute_result"
    }
   ],
   "source": [
    "fruits={'cherry','plum','apple','mango'}\n",
    "fruits.clear()\n",
    "fruits"
   ]
  },
  {
   "cell_type": "code",
   "execution_count": 34,
   "id": "cfb71d50",
   "metadata": {},
   "outputs": [
    {
     "ename": "NameError",
     "evalue": "name 'fruits' is not defined",
     "output_type": "error",
     "traceback": [
      "\u001b[1;31m---------------------------------------------------------------------------\u001b[0m",
      "\u001b[1;31mNameError\u001b[0m                                 Traceback (most recent call last)",
      "\u001b[1;32m~\\AppData\\Local\\Temp/ipykernel_2632/3442063834.py\u001b[0m in \u001b[0;36m<module>\u001b[1;34m\u001b[0m\n\u001b[0;32m      1\u001b[0m \u001b[0mfruits\u001b[0m\u001b[1;33m=\u001b[0m\u001b[1;33m{\u001b[0m\u001b[1;34m'cherry'\u001b[0m\u001b[1;33m,\u001b[0m\u001b[1;34m'plum'\u001b[0m\u001b[1;33m,\u001b[0m\u001b[1;34m'apple'\u001b[0m\u001b[1;33m,\u001b[0m\u001b[1;34m'mango'\u001b[0m\u001b[1;33m}\u001b[0m\u001b[1;33m\u001b[0m\u001b[1;33m\u001b[0m\u001b[0m\n\u001b[0;32m      2\u001b[0m \u001b[1;32mdel\u001b[0m \u001b[0mfruits\u001b[0m\u001b[1;33m\u001b[0m\u001b[1;33m\u001b[0m\u001b[0m\n\u001b[1;32m----> 3\u001b[1;33m \u001b[0mprint\u001b[0m\u001b[1;33m(\u001b[0m\u001b[0mfruits\u001b[0m\u001b[1;33m)\u001b[0m\u001b[1;33m\u001b[0m\u001b[1;33m\u001b[0m\u001b[0m\n\u001b[0m",
      "\u001b[1;31mNameError\u001b[0m: name 'fruits' is not defined"
     ]
    }
   ],
   "source": [
    "fruits={'cherry','plum','apple','mango'}\n",
    "del fruits\n",
    "print(fruits)"
   ]
  },
  {
   "cell_type": "markdown",
   "id": "30636358",
   "metadata": {},
   "source": [
    "# Keep the duplictes"
   ]
  },
  {
   "cell_type": "code",
   "execution_count": 41,
   "id": "dfb222dc",
   "metadata": {},
   "outputs": [
    {
     "data": {
      "text/plain": [
       "{'apple'}"
      ]
     },
     "execution_count": 41,
     "metadata": {},
     "output_type": "execute_result"
    }
   ],
   "source": [
    "x={'apple',\"banana\",\"cherry\"}\n",
    "y={'google',\"microsoft\",\"apple\"}\n",
    "\n",
    "x.intersection_update(y)\n",
    "x"
   ]
  },
  {
   "cell_type": "code",
   "execution_count": 42,
   "id": "034dc501",
   "metadata": {},
   "outputs": [
    {
     "data": {
      "text/plain": [
       "{'apple'}"
      ]
     },
     "execution_count": 42,
     "metadata": {},
     "output_type": "execute_result"
    }
   ],
   "source": [
    "x={'apple',\"banana\",\"cherry\"}\n",
    "y={'google',\"microsoft\",\"apple\"}\n",
    "\n",
    "z=x.intersection(y)\n",
    "z"
   ]
  },
  {
   "cell_type": "markdown",
   "id": "aba14b86",
   "metadata": {},
   "source": [
    "# keep all, but not duplicates"
   ]
  },
  {
   "cell_type": "code",
   "execution_count": 43,
   "id": "43bfdc18",
   "metadata": {},
   "outputs": [
    {
     "data": {
      "text/plain": [
       "{'banana', 'cherry', 'google', 'microsoft'}"
      ]
     },
     "execution_count": 43,
     "metadata": {},
     "output_type": "execute_result"
    }
   ],
   "source": [
    "x={'apple',\"banana\",\"cherry\"}\n",
    "y={'google',\"microsoft\",\"apple\"}\n",
    "\n",
    "x.symmetric_difference_update(y)\n",
    "x"
   ]
  },
  {
   "cell_type": "code",
   "execution_count": 44,
   "id": "8f1bf377",
   "metadata": {},
   "outputs": [
    {
     "data": {
      "text/plain": [
       "{'banana', 'cherry', 'google', 'microsoft'}"
      ]
     },
     "execution_count": 44,
     "metadata": {},
     "output_type": "execute_result"
    }
   ],
   "source": [
    "x={'apple',\"banana\",\"cherry\"}\n",
    "y={'google',\"microsoft\",\"apple\"}\n",
    "\n",
    "z=x.symmetric_difference(y)\n",
    "z"
   ]
  },
  {
   "cell_type": "code",
   "execution_count": null,
   "id": "a5787880",
   "metadata": {},
   "outputs": [],
   "source": []
  }
 ],
 "metadata": {
  "kernelspec": {
   "display_name": "Python 3 (ipykernel)",
   "language": "python",
   "name": "python3"
  },
  "language_info": {
   "codemirror_mode": {
    "name": "ipython",
    "version": 3
   },
   "file_extension": ".py",
   "mimetype": "text/x-python",
   "name": "python",
   "nbconvert_exporter": "python",
   "pygments_lexer": "ipython3",
   "version": "3.9.12"
  }
 },
 "nbformat": 4,
 "nbformat_minor": 5
}
